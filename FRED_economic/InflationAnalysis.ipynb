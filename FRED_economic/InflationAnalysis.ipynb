{
  "nbformat": 4,
  "nbformat_minor": 0,
  "metadata": {
    "colab": {
      "provenance": [],
      "collapsed_sections": [
        "xieUcFjBLL8Z",
        "Bj8DBYfeLdKh",
        "8apLzF0_LgkZ"
      ]
    },
    "kernelspec": {
      "name": "python3",
      "display_name": "Python 3"
    },
    "language_info": {
      "name": "python"
    }
  },
  "cells": [
    {
      "cell_type": "code",
      "execution_count": null,
      "metadata": {
        "id": "jnYV2tAXK3VU"
      },
      "outputs": [],
      "source": [
        "\n",
        "%matplotlib inline\n",
        "import matplotlib.pyplot as plt\n",
        "import matplotlib.dates as mdates\n",
        "import seaborn as sns\n",
        "import pandas as pd\n",
        "\n",
        "from matplotlib.ticker import MultipleLocator\n",
        "pd.set_option('display.max_columns', None)\n",
        "import os, requests, time\n",
        "from google.colab import userdata\n",
        "fred_api_key=userdata.get('FRED_API_KEY')\n",
        "\n",
        "import pandas as pd\n",
        "import seaborn as sns\n",
        "import matplotlib.pyplot as plt"
      ]
    },
    {
      "cell_type": "markdown",
      "source": [
        "# I. Create dataset"
      ],
      "metadata": {
        "id": "xieUcFjBLL8Z"
      }
    },
    {
      "cell_type": "markdown",
      "source": [
        "## A. Load Functions"
      ],
      "metadata": {
        "id": "Bj8DBYfeLdKh"
      }
    },
    {
      "cell_type": "code",
      "source": [
        "def get_children_categories(category_id, api_key, parent_name=\"ROOT\" ):\n",
        "  store_list=[]\n",
        "  url=\"https://api.stlouisfed.org/fred/category/children?\"\n",
        "  params = {\n",
        "      \"api_key\":api_key,\n",
        "      \"category_id\": category_id,\n",
        "      \"file_type\": \"json\"\n",
        "  }\n",
        "  response = requests.get(url, params=params)\n",
        "  if response.status_code == 200:\n",
        "    data = response.json()\n",
        "    children_categories = data.get('categories')\n",
        "    for children_categorie in children_categories:\n",
        "      # print(children_categorie)\n",
        "      child_categori_id = children_categorie.get('id')\n",
        "      child_name = children_categorie.get(\"name\")\n",
        "      store_list.append({\n",
        "            \"parent_id\": children_categorie.get(\"parent_id\"),\n",
        "            \"parent_name\": parent_name,\n",
        "            \"category_id\": child_categori_id,\n",
        "            \"name\": children_categorie.get(\"name\"),\n",
        "            \"notes\": children_categorie.get(\"notes\", \"\")\n",
        "        })\n",
        "  else:\n",
        "      print(f\"Error: {response.status_code}, category: {category_id}\")\n",
        "      return\n",
        "  df=pd.DataFrame.from_dict(store_list)\n",
        "  print(df)\n",
        "  return df\n",
        "\n",
        "def get_series_from_category(category_id, api_key, filter_term=None):\n",
        "  store_list=[]\n",
        "  url=\"https://api.stlouisfed.org/fred/category/series?\"\n",
        "  params = {\n",
        "      \"api_key\":api_key,\n",
        "      \"category_id\": category_id,\n",
        "      \"file_type\": \"json\"\n",
        "  }\n",
        "  response = requests.get(url, params=params)\n",
        "  if response.status_code == 200:\n",
        "    data = response.json()\n",
        "\n",
        "    series = data.get('seriess')\n",
        "    for serie in series:\n",
        "      store_list.append(serie)\n",
        "      # serie_id = serie.get('id')\n",
        "      # child_name = serie.get(\"name\")\n",
        "      # store_list.append({\n",
        "      #       \"parent_id\": serie.get(\"parent_id\"),\n",
        "      #       \"parent_name\": parent_name,\n",
        "      #       \"category_id\": serie_id,\n",
        "      #       \"name\": serie.get(\"name\"),\n",
        "      #       \"notes\": serie.get(\"notes\", \"\")\n",
        "      #   })\n",
        "  else:\n",
        "      print(f\"Error: {response.status_code}, category: {category_id}\")\n",
        "      return\n",
        "  df=pd.DataFrame.from_dict(store_list).drop_duplicates('id')\n",
        "  df.drop(['realtime_start', 'realtime_end','observation_start', 'observation_end','frequency_short', 'units_short',\n",
        "           'seasonal_adjustment_short','last_updated', 'popularity', 'group_popularity'], axis=1, inplace=True)\n",
        "  if filter_term:\n",
        "    df=df[df.title.str.contains(filter_term, case=False, na=False)]\n",
        "  return df\n",
        "\n",
        "\n",
        "def search_series(search_name, api_key,frequency_criteria=\"Monthly\", search_term=None):\n",
        "  SEARCH_URL = f\"https://api.stlouisfed.org/fred/series/search?\"\n",
        "  store_list = []\n",
        "  params = {\n",
        "      \"api_key\":api_key,\n",
        "      \"search_text\":search_name,\n",
        "      \"file_type\": \"json\"\n",
        "  }\n",
        "  response = requests.get(SEARCH_URL, params=params)\n",
        "  if response.status_code == 200:\n",
        "    data = response.json()\n",
        "    # print(data.get(\"count\"))\n",
        "    series=data.get(\"seriess\")\n",
        "    for serie in series:\n",
        "      serie_id = serie.get(\"id\")\n",
        "      title = serie.get(\"title\")\n",
        "      frequency=serie.get(\"frequency\")\n",
        "      note = serie.get(\"notes\")\n",
        "      unit = serie.get(\"units\")\n",
        "      if frequency==frequency_criteria:\n",
        "        store_list.append({\"serie_id\":serie_id,\n",
        "                           \"title\":title,\n",
        "                           \"unit\": unit,\n",
        "                           \"notes\": note,\n",
        "                           \"seasonal_adjustment\":serie.get(\"seasonal_adjustment\")\n",
        "                           })\n",
        "  else:\n",
        "      print(f\"Error: {response.status_code}\")\n",
        "      return\n",
        "  df = pd.DataFrame(store_list)\n",
        "  if search_term:\n",
        "    df=df[df.title.str.contains(search_term, case=False, na=False)]\n",
        "  return df\n",
        "\n",
        "def get_time_series(serie_id, api_key,start_time=\"1776-07-04\", end_time=\"9999-12-31\",rename=None):\n",
        "  \"\"\"return daily time point\n",
        "  start time: 1776-07-04 is the earliest time\n",
        "  end time: 9999-12-31 (latest available)\n",
        "  \"\"\"\n",
        "  store_list = []\n",
        "  URL = f\"https://api.stlouisfed.org/fred/series/observations?\"\n",
        "  params = {\n",
        "      \"api_key\":api_key,\n",
        "      \"series_id\":serie_id,\n",
        "      \"file_type\": \"json\",\n",
        "      \"observation_start\": start_time,\n",
        "      \"observation_end\": end_time,\n",
        "\n",
        "  }\n",
        "  response = requests.get(URL, params=params )\n",
        "  if response.status_code == 200:\n",
        "    data = response.json()\n",
        "    observations = data.get(\"observations\")\n",
        "    for ob in observations:\n",
        "      store_list.append({\"Date\":ob.get(\"date\"), \"Value\":ob.get(\"value\")})\n",
        "  else:\n",
        "      print(f\"Error: {response.status_code}\")\n",
        "      return\n",
        "\n",
        "  res_df = pd.DataFrame(store_list)\n",
        "  #  Replace '.' with NaN\n",
        "  res_df['Value'] = pd.to_numeric(res_df['Value'], errors='coerce')\n",
        "  # Drop rows with NaN in 'value'\n",
        "  res_df.dropna(subset=['Date','Value'], inplace=True)\n",
        "  # set DatatimeIndex\n",
        "  res_df['Date'] = pd.to_datetime(res_df['Date'])\n",
        "  res_df['Value'] = res_df[\"Value\"].astype(float)\n",
        "  res_df = res_df.set_index('Date')\n",
        "  res_df = res_df.sort_index()\n",
        "  if rename:\n",
        "    res_df.rename(columns={\"Value\":rename}, inplace=True)\n",
        "  return res_df\n",
        "\n",
        "\n",
        "def get_serie_info(series_name, api_key):\n",
        "  store_list = []\n",
        "  URL = f\"https://api.stlouisfed.org/fred/series?\"\n",
        "  params = {\n",
        "      \"api_key\":api_key,\n",
        "      \"series_id\":series_name,\n",
        "      \"file_type\": \"json\",\n",
        "  }\n",
        "  response = requests.get(URL, params=params )\n",
        "  if response.status_code == 200:\n",
        "    data = response.json()\n",
        "    data = data.get(\"seriess\")[0]\n",
        "    df=pd.DataFrame.from_dict(data, orient='index', columns=['Value'])\n",
        "  else:\n",
        "      print(f\"Error: {response.status_code}\")\n",
        "      return\n",
        "  print(df)\n",
        "  return df\n"
      ],
      "metadata": {
        "id": "J_asIdFNLNuy"
      },
      "execution_count": null,
      "outputs": []
    },
    {
      "cell_type": "markdown",
      "source": [
        "## B. Find series name"
      ],
      "metadata": {
        "id": "8apLzF0_LgkZ"
      }
    },
    {
      "cell_type": "code",
      "source": [
        "df=search_series(\"unemployment+rate\", fred_api_key, \"Monthly\", \"Unemployment Rate\")"
      ],
      "metadata": {
        "id": "TNMZtL9tLi7I"
      },
      "execution_count": null,
      "outputs": []
    },
    {
      "cell_type": "code",
      "source": [
        "df.head()"
      ],
      "metadata": {
        "id": "kSHkSXycL6C4"
      },
      "execution_count": null,
      "outputs": []
    },
    {
      "cell_type": "code",
      "source": [
        "df=search_series(\"M2\", fred_api_key, \"Monthly\")"
      ],
      "metadata": {
        "id": "uY8JkMqMMWlm"
      },
      "execution_count": null,
      "outputs": []
    },
    {
      "cell_type": "code",
      "source": [
        "df.head()\n",
        "\n",
        "# df.title.values"
      ],
      "metadata": {
        "id": "9xF1ebgdMQeK"
      },
      "execution_count": null,
      "outputs": []
    },
    {
      "cell_type": "code",
      "source": [
        "df=get_serie_info(\"CIVPART\", fred_api_key)\n",
        "df.loc['notes'].values"
      ],
      "metadata": {
        "id": "NfGAvsKrN-B3"
      },
      "execution_count": null,
      "outputs": []
    },
    {
      "cell_type": "markdown",
      "source": [
        "Here is the list of serie name I collected:\n",
        "CPIAUCSL: Consumer Price Index for All Urban Consumers (target) \\\n",
        "\n",
        "//GDP\n",
        "GDP: gross domestic product\n",
        "\n",
        "//labor market\n",
        "UNRATE: unemployment \\\n",
        "CIVPART: Labor Force Participation Rate \\\n",
        "PAYEMS: Total Nonfarm Payrolls\n",
        "\n",
        "//consumption\n",
        "PCEPI: Personal Consumption Expenditures Price Index\\\n",
        "PCEPILFE: Personal Consumption Expenditures Excluding Food and Energy (Chain-Type Price Index) \\\n",
        "RSAFS: \"Advance Retail Sales: Retail Trade and Food Services\n",
        "\n",
        "//production\n",
        "PPIACO: Producer Price Index for All Commodities\n",
        "\n",
        "//Money supply\n",
        "FEDFUNDS: Federal Funds Effective Rate \\\n",
        "M2SL: M2 Money Stock \\\n",
        "WTISPLC: Spot Crude Oil Price: West Texas Intermediate (WTI) \\\n",
        "UMCSENT: University of Michigan: Consumer Sentiment \\\n",
        "HOUST: New Privately-Owned Housing Units Started: Total Units\\\n",
        "NM09075USM476NNBR: onfarm Real Estate Foreclosures for United States\n"
      ],
      "metadata": {
        "id": "BGhzGNKnMJZj"
      }
    },
    {
      "cell_type": "markdown",
      "source": [
        "## C. Data collection: get time series data for each serie name"
      ],
      "metadata": {
        "id": "wLkW35KrQrtQ"
      }
    },
    {
      "cell_type": "code",
      "source": [
        "series_name_dict={\n",
        "            \"UNRATE\":\" unemployment\",\n",
        "            \"CIVPART\": \"Labor Force Participation Rate\",\n",
        "            \"PAYEMS\":\"Total Nonfarm Payrolls\",\n",
        "            \"FEDFUNDS\": \"Federal Funds Effective Rate (daily rate)\",\n",
        "            \"M2SL\": \"M2 Money Stock\",\n",
        "            \"HOUST\": \"New Privately-Owned Housing Units Started: Total Units\",\n",
        "            \"UMCSENT\":\" University of Michigan: Consumer Sentiment\",\n",
        "\n",
        "            \"WTISPLC\": \"Spot Crude Oil Price: West Texas Intermediate (WTI)\",\n",
        "            \"PPIACO\": \"Producer Price Index for All Commodities\",\n",
        "            \"PCEPI\": \"Personal Consumption Expenditures Price Index\",\n",
        "            \"PCEPILFE\": \"Personal Consumption Expenditures Excluding Food and Energy (Chain-Type Price Index)\",\n",
        "            \"CPIAUCSL\": \"Consumer Price Index for All Urban Consumers\",\n",
        "            \"CPILFESL\": \"(Core CPI)Consumer Price Index for All Urban Consumers: All Items Less Food and Energy in U.S. City Average\"\n",
        "\n",
        "}\n",
        "#  \"RSAFS\": \"Advance Retail Sales: Retail Trade and Food Services\",\n",
        "# NM09075USM476NNBR: onfarm Real Estate Foreclosures for United States,"
      ],
      "metadata": {
        "id": "0ZSyIazcW65E"
      },
      "execution_count": null,
      "outputs": []
    },
    {
      "cell_type": "code",
      "source": [
        "df = pd.DataFrame()\n",
        "for serie_name, serie_description in series_name_dict.items():\n",
        "  cur_df=get_time_series(serie_name, fred_api_key, rename=serie_name)\n",
        "  # print(serie_name, cur_df.shape)\n",
        "  df[serie_name]=cur_df\n",
        "print(df.shape)"
      ],
      "metadata": {
        "id": "XIJHUJA1XaGa"
      },
      "execution_count": null,
      "outputs": []
    },
    {
      "cell_type": "markdown",
      "source": [
        "remove row with NaN value"
      ],
      "metadata": {
        "id": "y4sksH6a_8kH"
      }
    },
    {
      "cell_type": "code",
      "source": [
        "df.dropna(inplace=True)\n",
        "print(df.shape)"
      ],
      "metadata": {
        "id": "HkSRsILxjqfP"
      },
      "execution_count": null,
      "outputs": []
    },
    {
      "cell_type": "markdown",
      "source": [
        "Calculate rate of change over  yearly period"
      ],
      "metadata": {
        "id": "KNRsMWnm__dJ"
      }
    },
    {
      "cell_type": "code",
      "source": [
        "period=12\n",
        "df[\"fedfund_rate\"]=(df['FEDFUNDS'].pct_change(periods=period)*100)*round(2)\n",
        "df['unemployment_rate'] =  (df['UNRATE'].pct_change(periods=period)*100)*round(2)\n",
        "df['CIVPART_rate'] =  (df['CIVPART'].pct_change(periods=period)*100)*round(2)\n",
        "df['inflation_rate']=(df.CPIAUCSL.pct_change(periods=period)*100)*round(2)\n",
        "df['core_inflation_rate']=(df.CPILFESL.pct_change(periods=period)*100)*round(2)\n",
        "df['housing_rate'] = (df.HOUST.pct_change(periods=period)*100)*round(2)\n",
        "df['PPIACO_rate'] = (df['PPIACO'].pct_change(periods=period)*100)*round(2) #commodity index\n",
        "df['MoneySupply_rate'] = (df['M2SL'].pct_change(periods=period)*100)*round(2)\n",
        "df['oilprice_rate'] = (df['WTISPLC'].pct_change(periods=period)*100)*round(2)\n",
        "# df['UMCSENT_rate'] =  (df['UMCSENT'].pct_change(periods=period)*100)*round(2)\n",
        "df.shape"
      ],
      "metadata": {
        "id": "2rE5g9vN_Dm-"
      },
      "execution_count": null,
      "outputs": []
    },
    {
      "cell_type": "code",
      "source": [
        "# df[df.index.year==2022]\n",
        "df.tail()"
      ],
      "metadata": {
        "id": "Pqr2bW-k_wyV"
      },
      "execution_count": null,
      "outputs": []
    },
    {
      "cell_type": "code",
      "source": [
        "# df.info()"
      ],
      "metadata": {
        "id": "LXal_8v9W0P3"
      },
      "execution_count": null,
      "outputs": []
    },
    {
      "cell_type": "markdown",
      "source": [
        "Note: CPI is an index,  relative to the average price level during the 1982–1984 period, which is set to 100. There is value before 1982 because it's calculated backwards. \\\n",
        "Save the dataset"
      ],
      "metadata": {
        "id": "QRJLB1qXqIPR"
      }
    },
    {
      "cell_type": "code",
      "source": [
        "from google.colab import drive\n",
        "drive.mount('/content/drive/')"
      ],
      "metadata": {
        "id": "gLZtZKJzl8kE"
      },
      "execution_count": null,
      "outputs": []
    },
    {
      "cell_type": "code",
      "source": [
        "df.to_csv(\"/content/drive/My Drive/economic_data_observation.csv\")"
      ],
      "metadata": {
        "id": "Ae01q9_7nFvg"
      },
      "execution_count": null,
      "outputs": []
    },
    {
      "cell_type": "markdown",
      "source": [
        "# II. Predicting Inflation"
      ],
      "metadata": {
        "id": "thm6VopOpbo3"
      }
    },
    {
      "cell_type": "markdown",
      "source": [
        "## A. Using Linear Regression Model"
      ],
      "metadata": {
        "id": "RKl-edAsk4BW"
      }
    },
    {
      "cell_type": "markdown",
      "source": [
        "### A1. Use heatmap to evaluate relaionship of inflation with other variables"
      ],
      "metadata": {
        "id": "lb35O3wMlFBr"
      }
    },
    {
      "cell_type": "code",
      "source": [
        "df_=df[~df.inflation_rate.isna()][['HOUST', \"housing_rate\",'UNRATE', 'CIVPART', \"CIVPART_rate\", 'FEDFUNDS', 'UMCSENT', \"PPIACO_rate\",\"MoneySupply_rate\", \"oilprice_rate\",\"inflation_rate\", \"core_inflation_rate\"]]\n",
        "# df_=df[~df.inflation_rate.isna()]\n",
        "\n",
        "correlation_matrix = df_.corr()\n",
        "# create heatmap\n",
        "sns.heatmap(correlation_matrix, annot=True, cmap='coolwarm', fmt=\".1f\", vmin=-1, vmax=1)\n",
        "plt.title('Matrix Heatmap')\n",
        "plt.show()"
      ],
      "metadata": {
        "id": "1FRcqmzNk9Qj"
      },
      "execution_count": null,
      "outputs": []
    },
    {
      "cell_type": "markdown",
      "source": [
        "Inflation rate is positively correlated with oil_price rate , moneysupply rate, PPIACO rate, FEDFUNDS, and civpart_rate \\\n",
        "Now I use Cross Correlation to identify which lag period for each variable show strong correlation\n",
        "\n"
      ],
      "metadata": {
        "id": "DyR2SmoXlkhi"
      }
    },
    {
      "cell_type": "markdown",
      "source": [
        "### A2. Cross Correlation and identify shift lag period\n",
        "Cross Correlation is a method used to measure the similarity between two time series signals"
      ],
      "metadata": {
        "id": "PhTG_wUsl5Ng"
      }
    },
    {
      "cell_type": "code",
      "source": [
        "df[['FEDFUNDS', 'inflation_rate']].plot(figsize=(12, 6))\n",
        "plt.title(\"Federal Rate vs Inflation rate over time\")\n",
        "plt.show()"
      ],
      "metadata": {
        "id": "L5e4Dj0Yl4bY"
      },
      "execution_count": null,
      "outputs": []
    },
    {
      "cell_type": "markdown",
      "source": [
        "Does inflation happen after or before a change in FedFund rate? \\\n",
        "We know that change in FedFund on inflation is not immediate, there is typically a lag. \\\n",
        "We use cross correlation to identify which lag time show the highest correlation"
      ],
      "metadata": {
        "id": "dZsYvcA_mm97"
      }
    },
    {
      "cell_type": "code",
      "source": [
        "df_=df[~df.inflation_rate.isna()]\n",
        "df_.shape"
      ],
      "metadata": {
        "id": "lNOJIUCzmuPC"
      },
      "execution_count": null,
      "outputs": []
    },
    {
      "cell_type": "code",
      "source": [
        "lags = range(-15, 15)  # lag of ±15 months\n",
        "cross_cors = [df_['FEDFUNDS'].corr(df_['inflation_rate'].shift(lag)) for lag in lags] #shifting inflation by various lag to compare to FedFunds\n",
        "\n",
        "fig, ax = plt.subplots(figsize=(10, 5))\n",
        "\n",
        "ax.bar(lags, cross_cors, color='purple')\n",
        "ax.set_title('Cross-correlation between Fed Funds Rate and Inflation Rate')\n",
        "ax.set_xlabel('Lag (months)')\n",
        "ax.set_ylabel('Correlation coefficient')\n",
        "# ax.xaxis.set_major_locator(MultipleLocator(1))\n",
        "ax.set_xticks(lags)\n",
        "ax.tick_params(axis='x', labelrotation=45)\n",
        "plt.show()"
      ],
      "metadata": {
        "id": "9EpZGHeQmjr7"
      },
      "execution_count": null,
      "outputs": []
    },
    {
      "cell_type": "code",
      "source": [
        "lags = range(-15, 15)  # lag of ±15 months\n",
        "cross_cors = [df_['MoneySupply_rate'].corr(df_['inflation_rate'].shift(lag)) for lag in lags]\n",
        "# cross_cors = [df_['M2SL'].corr(df_['inflation_rate'].shift(lag)) for lag in lags]\n",
        "\n",
        "fig, ax = plt.subplots(figsize=(10, 5))\n",
        "\n",
        "ax.bar(lags, cross_cors)\n",
        "ax.set_title('Cross-correlation between Money Supply Rate and Inflation Rate')\n",
        "ax.set_xlabel('Lag (months)')\n",
        "ax.set_ylabel('Correlation coefficient')\n",
        "ax.set_xticks(lags)\n",
        "ax.tick_params(axis='x', labelrotation=45)\n",
        "plt.show()"
      ],
      "metadata": {
        "id": "XeYMBejlm3nX"
      },
      "execution_count": null,
      "outputs": []
    },
    {
      "cell_type": "code",
      "source": [
        "lags = range(-15, 15)  # lag of ±15 months\n",
        "cross_cors = [df_['PPIACO_rate'].corr(df_['inflation_rate'].shift(lag)) for lag in lags]\n",
        "fig, ax = plt.subplots(figsize=(10, 5))\n",
        "\n",
        "ax.bar(lags, cross_cors, color='red')\n",
        "ax.set_title('Cross-correlation between CPI Rate and Inflation Rate')\n",
        "ax.set_xlabel('Lag (months)')\n",
        "ax.set_ylabel('Correlation coefficient')\n",
        "ax.set_xticks(lags)\n",
        "ax.tick_params(axis='x', labelrotation=45)\n",
        "\n",
        "plt.show()"
      ],
      "metadata": {
        "id": "1KlxD6pym4L0"
      },
      "execution_count": null,
      "outputs": []
    },
    {
      "cell_type": "code",
      "source": [
        "lags = range(-15, 15)  # lag of ±15 months\n",
        "cross_cors = [df_['CIVPART_rate'].corr(df_['inflation_rate'].shift(lag)) for lag in lags]\n",
        "fig, ax = plt.subplots(figsize=(10, 5))\n",
        "\n",
        "ax.bar(lags, cross_cors, color=\"green\")\n",
        "ax.set_title('Cross-correlation between Civil Participation Rate and Inflation Rate')\n",
        "ax.set_xlabel('Lag (months)')\n",
        "ax.set_ylabel('Correlation coefficient')\n",
        "ax.set_xticks(lags)\n",
        "ax.tick_params(axis='x', labelrotation=45)\n",
        "\n",
        "plt.show()"
      ],
      "metadata": {
        "id": "iwlhIKnJm8DH"
      },
      "execution_count": null,
      "outputs": []
    },
    {
      "cell_type": "code",
      "source": [
        "lags = range(-15, 15)  # lag of ±24 months\n",
        "cross_cors = [df_['oilprice_rate'].corr(df_['inflation_rate'].shift(lag)) for lag in lags]\n",
        "fig, ax = plt.subplots(figsize=(10, 5))\n",
        "\n",
        "ax.bar(lags, cross_cors,color=\"black\")\n",
        "ax.set_title('Cross-correlation between Oil Rate and Inflation Rate')\n",
        "ax.set_xlabel('Lag (months)')\n",
        "ax.set_ylabel('Correlation coefficient')\n",
        "# ax.xaxis.set_major_locator(MultipleLocator(1))\n",
        "ax.set_xticks(lags)\n",
        "ax.tick_params(axis='x', labelrotation=45)\n",
        "\n",
        "plt.show()"
      ],
      "metadata": {
        "id": "lmzexum6m-2J"
      },
      "execution_count": null,
      "outputs": []
    },
    {
      "cell_type": "code",
      "source": [
        "From the correlation plot, we see that Oil Rate: correlation peaks at lag=-1 => the change in oil rate of previous month is reactive with the inflation \\\n",
        "PPICAO Rate : correlation peaks at lag=-1 => the change in commodity index of previous month is reactive with the inflation \\\n",
        "Money Supply Rate: peaks at lag -12: change in money rate of previous year is reactive with inflation \\\n",
        "Civil Rate participate : lag =0 \\\n",
        "fedFund: peak at lag =12 => this makes sense becasue Policymakers need to observe sustained inflation, assess its causes, and go through policy-setting procedures, Wants to avoid overreacting to short-term fluctuations, so they often respond gradually."
      ],
      "metadata": {
        "id": "gbPH2HhhnBRN"
      },
      "execution_count": null,
      "outputs": []
    },
    {
      "cell_type": "markdown",
      "source": [
        "### A3. Use Linear Regression Model to predict inflation"
      ],
      "metadata": {
        "id": "F_q1Obxcp_TL"
      }
    },
    {
      "cell_type": "code",
      "source": [
        "from sklearn.model_selection import train_test_split\n",
        "from sklearn.linear_model import LinearRegression\n",
        "from sklearn.metrics import mean_squared_error, r2_score"
      ],
      "metadata": {
        "id": "PHnPv6krnIJP"
      },
      "execution_count": null,
      "outputs": []
    },
    {
      "cell_type": "code",
      "source": [
        "df_shift = df.copy()\n",
        "selected_columns =[ \"CIVPART_rate\", 'FEDFUNDS', 'UMCSENT', \"PPIACO_rate\",\"MoneySupply_rate\", \"oilprice_rate\",\"inflation_rate\"]\n",
        "df_shift = df_shift[selected_columns]\n",
        "df_shift[\"CIVPART_rate_lag\"]=df_shift[\"CIVPART_rate\"].shift(0)\n",
        "df_shift[\"FEDFUNDS_lag\"]=df_shift[\"FEDFUNDS\"].shift(12)\n",
        "df_shift[\"PPIACO_rate_lag\"]=df_shift[\"PPIACO_rate\"].shift(-1)\n",
        "df_shift[\"MoneySupply_rate_lag\"]=df_shift[\"MoneySupply_rate\"].shift(-12)\n",
        "df_shift[\"oilprice_rate_lag\"]=df_shift[\"oilprice_rate\"].shift(-1)\n",
        "df_shift.dropna(axis=0,inplace=True)\n",
        "df_shift.shape"
      ],
      "metadata": {
        "id": "bLZ1V3d8qFVP"
      },
      "execution_count": null,
      "outputs": []
    },
    {
      "cell_type": "code",
      "source": [
        "selected_columns =[ \"CIVPART_rate_lag\", 'FEDFUNDS_lag', \"PPIACO_rate_lag\", \"MoneySupply_rate_lag\", \"oilprice_rate_lag\",\"inflation_rate\"]\n",
        "df_=df_shift[selected_columns].dropna()\n",
        "df_.shape"
      ],
      "metadata": {
        "id": "9S2A-P9uqQpS"
      },
      "execution_count": null,
      "outputs": []
    },
    {
      "cell_type": "code",
      "source": [
        "target_col=\"inflation_rate\"\n",
        "X=df_.drop(target_col,axis=1)\n",
        "y=df_[target_col]\n",
        "year = \"2017\"\n",
        "X_train = X.loc[X.index<year]\n",
        "y_train = y.loc[y.index<year]\n",
        "\n",
        "X_test = X.loc[X.index >=year]\n",
        "y_test = y.loc[y.index >= year]\n",
        "\n",
        "model = LinearRegression()\n",
        "model.fit(X_train, y_train)\n",
        "\n",
        "y_pred_ = model.predict(X_test)\n",
        "y_pred = pd.Series(y_pred_, index=y_test.index)\n",
        "\n",
        "print(\"MSE:\", mean_squared_error(y_test, y_pred))\n",
        "print(\"R^2 Score:\", model.score(X_test, y_test))"
      ],
      "metadata": {
        "id": "z-DzabDmnI8H"
      },
      "execution_count": null,
      "outputs": []
    },
    {
      "cell_type": "markdown",
      "source": [
        "The linear regression model does not perform well with inflation prediction.\n",
        "=> understand why \\\n",
        ""
      ],
      "metadata": {
        "id": "y5OW2xCfncj3"
      }
    },
    {
      "cell_type": "markdown",
      "source": [
        "### A4. Evaluate linear assumption"
      ],
      "metadata": {
        "id": "Mk8P2O3krDH2"
      }
    },
    {
      "cell_type": "markdown",
      "source": [
        "#### Relationship between the independent and dependent variables is linear."
      ],
      "metadata": {
        "id": "4_xyMzgArIDa"
      }
    },
    {
      "cell_type": "code",
      "source": [
        "import seaborn as sns\n",
        "target_col=\"inflation_rate\"\n",
        "features_df=df_.drop(target_col,axis=1)\n",
        "features= features_df.columns\n",
        "sns.pairplot(df_, x_vars=features, y_vars=target_col, kind='reg' )"
      ],
      "metadata": {
        "id": "Ni6yxWP4nYQR"
      },
      "execution_count": null,
      "outputs": []
    },
    {
      "cell_type": "markdown",
      "source": [
        "#### Normality of Residuals\n",
        "\n",
        "Residuals (the differences between observed and predicted values) should follow a normal distribution when considering multiple predictors together."
      ],
      "metadata": {
        "id": "Wv5UKOoBnld5"
      }
    },
    {
      "cell_type": "code",
      "source": [
        "import numpy as np\n",
        "from scipy.stats import norm\n",
        "\n",
        "residuals = y_test - y_pred\n",
        "# Plot histogram of residuals\n",
        "count, bins, ignored = plt.hist(residuals, bins=30, density=True, alpha=0.6)\n",
        "\n",
        "#normal distribution line over the distribution of residuals\n",
        "\n",
        "mean = np.mean(residuals)\n",
        "std = np.std(residuals)\n",
        "\n",
        "xmin, xmax = plt.xlim()\n",
        "x = np.linspace(xmin, xmax, 100)\n",
        "p = norm.pdf(x, mean, std)\n",
        "plt.plot(x, p, 'r', linewidth=2)\n",
        "\n",
        "plt.title('Histogram of Residuals with Normal Distribution Fit')\n",
        "plt.xlabel('Residuals')\n",
        "plt.ylabel('Frequency')\n",
        "plt.show()"
      ],
      "metadata": {
        "id": "Cmx6m0bIngZK"
      },
      "execution_count": null,
      "outputs": []
    },
    {
      "cell_type": "markdown",
      "source": [
        "#### homoscedasticity (constant variance) of the errors versus predictions\n",
        "\n"
      ],
      "metadata": {
        "id": "0LlyWzklntJY"
      }
    },
    {
      "cell_type": "code",
      "source": [
        "plt.scatter(y_pred, residuals)\n",
        "plt.axhline(0, color='red', linestyle='--')\n",
        "plt.xlabel(\"Predicted Values\")\n",
        "plt.ylabel(\"Residuals\")\n",
        "plt.title(\"Residuals vs Predicted\")\n",
        "plt.show()"
      ],
      "metadata": {
        "id": "IblsBVyAntpA"
      },
      "execution_count": null,
      "outputs": []
    },
    {
      "cell_type": "markdown",
      "source": [
        "The residuals are not evenly scattered.\n",
        "\n",
        "#### statistical independence of the errors:  Use Durbin-Watson test"
      ],
      "metadata": {
        "id": "-e6mi7L0n3u1"
      }
    },
    {
      "cell_type": "code",
      "source": [
        "from statsmodels.stats.stattools import durbin_watson\n",
        "\n",
        "dw = durbin_watson(residuals)\n",
        "print(f'Durbin-Watson: {dw}')"
      ],
      "metadata": {
        "id": "H4xmWsren7l-"
      },
      "execution_count": null,
      "outputs": []
    },
    {
      "cell_type": "markdown",
      "source": [
        "## B. ARIMA model"
      ],
      "metadata": {
        "id": "m5B-VWh-Bq8g"
      }
    },
    {
      "cell_type": "markdown",
      "source": [
        "natural model for autocorrelated data is the ARIMA model \\\n",
        "ARIMA models assume the time series data is stationary. \\\n",
        "Stationary means statistical properties of time series (mean and variance) do not change over time."
      ],
      "metadata": {
        "id": "Zkvgzl9Hr9b1"
      }
    },
    {
      "cell_type": "code",
      "source": [
        "plt.plot(df.index, df.inflation_rate)\n",
        "plt.title(\"Inflation rate over time\")\n",
        "plt.xlabel(\"Years\")\n",
        "plt.ylabel(\"Inflation Rate (%)\")\n",
        "plt.gca().xaxis.set_major_locator(mdates.YearLocator(5))  # every year\n",
        "plt.gca().xaxis.set_major_formatter(mdates.DateFormatter('%Y'))\n",
        "\n",
        "plt.xticks(rotation=45)\n",
        "plt.tight_layout()\n",
        "plt.show()"
      ],
      "metadata": {
        "id": "DoYOVyPFDhEi"
      },
      "execution_count": null,
      "outputs": []
    },
    {
      "cell_type": "markdown",
      "source": [
        "The time series plot show trends over time, suggesting nonstationary. To verify, I use adfuller test and ACF plot (autocorrelation Function plot). The ACF plot show correlation of time series with lagged version, showing how current value is related to past value. \\\n",
        "Augmented Dicky-Fuller (ADF) test is statistical tst to deterine if a time series is stationary."
      ],
      "metadata": {
        "id": "kgqQzMJ5tjp2"
      }
    },
    {
      "cell_type": "code",
      "source": [
        "from statsmodels.tsa.stattools import adfuller\n",
        "result = adfuller(df['inflation_rate'].dropna())  # dropna in case there are NaNs\n",
        "\n",
        "print('ADF Statistic:', result[0])\n",
        "print('p-value:', result[1])\n",
        "print('Critical Values:', result[4])"
      ],
      "metadata": {
        "id": "WwahDj3YtFCV"
      },
      "execution_count": null,
      "outputs": []
    },
    {
      "cell_type": "markdown",
      "source": [
        "ADF statistic (-2.51) is higher (less negative) than all critical values (especially the 5% and 1% levels), and the p-value (0.1135) > 0.05.\n",
        "The data is non stationary"
      ],
      "metadata": {
        "id": "BgaD1Kbb-Yn8"
      }
    },
    {
      "cell_type": "code",
      "source": [
        "from statsmodels.tsa.seasonal import seasonal_decompose, STL\n",
        "result = seasonal_decompose(df['inflation_rate'].dropna(), model='additive', period=12)\n",
        "result.plot()\n",
        "\n",
        "# stl = STL(df['inflation_rate'].dropna(), period=12)\n",
        "# result = stl.fit()\n",
        "\n",
        "# ig, (ax1, ax2, ax3, ax4) = plt.subplots(4, 1, figsize=(10, 8), sharex=True)\n",
        "# ax1.plot(df['inflation_rate'])\n",
        "# ax1.set_title('Original Sales Data')\n",
        "# ax2.plot(result.trend)\n",
        "# ax2.set_title('Trend Component')\n",
        "# ax3.plot(result.seasonal)\n",
        "# ax3.set_title('Seasonal Component')\n",
        "# ax4.plot(result.resid)\n",
        "# ax4.set_title('Residual (Noise) Component')\n",
        "\n",
        "# plt.tight_layout()\n",
        "# plt.show()"
      ],
      "metadata": {
        "id": "uW4WTc5590QJ"
      },
      "execution_count": null,
      "outputs": []
    },
    {
      "cell_type": "markdown",
      "source": [
        "Data is seasonal => use SARIMA"
      ],
      "metadata": {
        "id": "HlaF1duI92Bh"
      }
    },
    {
      "cell_type": "code",
      "source": [
        "from statsmodels.graphics.tsaplots import plot_acf, plot_pacf\n",
        "plot_acf(df['inflation_rate'].dropna(), lags=4*12)\n",
        "plot_pacf(df['inflation_rate'].dropna(),lags=4*12)\n",
        "# plot_acf(df.resample('Y').median().dropna().inflation_rate, lags=20)"
      ],
      "metadata": {
        "id": "ICYMGZOZ9fdP"
      },
      "execution_count": null,
      "outputs": []
    },
    {
      "cell_type": "code",
      "source": [
        " The ACF and PACF plots show significant autocorrelation at the first lags, and not decay to 0, suggesting data is not stationary and requires differencing.\n",
        "\n",
        " The lag where PACF cuts off → candidate P = 1\n",
        "\n",
        "The lag where ACF cuts off → candidate Q=36 => 3\n"
      ],
      "metadata": {
        "id": "5zq-ZjVQ9jU3"
      },
      "execution_count": null,
      "outputs": []
    },
    {
      "cell_type": "markdown",
      "source": [
        "find optimal d for Arima model"
      ],
      "metadata": {
        "id": "LwTsh6G857Z8"
      }
    },
    {
      "cell_type": "code",
      "source": [
        "d =1\n",
        "inflation_rate = df['inflation_rate'].dropna()\n",
        "p_value = 1\n",
        "while p_value > 0.05:\n",
        "  new_inflation_rate = df['inflation_rate'].diff().dropna()\n",
        "  result = adfuller(new_inflation_rate)\n",
        "  p_value = result[1]\n",
        "  print(d)\n",
        "  print('ADF Statistic:', result[0])\n",
        "  print('p-value:', result[1])"
      ],
      "metadata": {
        "id": "eyZR_rrQ56vu"
      },
      "execution_count": null,
      "outputs": []
    },
    {
      "cell_type": "code",
      "source": [
        "new_inflation_rate = df['inflation_rate'].diff(12).dropna()\n",
        "result = adfuller(new_inflation_rate)\n",
        "p_value = result[1]\n",
        "\n",
        "print('p-value:', result[1])"
      ],
      "metadata": {
        "id": "HtEfrpga-8qz"
      },
      "execution_count": null,
      "outputs": []
    },
    {
      "cell_type": "code",
      "source": [
        "the optimal d is 1"
      ],
      "metadata": {
        "id": "eigDB83p7MGw"
      },
      "execution_count": null,
      "outputs": []
    },
    {
      "cell_type": "code",
      "source": [
        "import statsmodels.api as sm\n",
        "\n",
        "p, d, q = 3, 1, 1           # non-seasonal orders\n",
        "P, D, Q, s = 1, 1, 3, 12   # seasonal orders\n",
        "\n",
        "model = sm.tsa.statespace.SARIMAX(df['inflation_rate'].dropna(),\n",
        "                                  order=(p, d, q),\n",
        "                                  seasonal_order=(P, D, Q, s),\n",
        "                                  enforce_stationarity=False,\n",
        "                                  enforce_invertibility=False)\n",
        "\n",
        "results = model.fit()\n",
        "\n",
        "print(results.summary())\n"
      ],
      "metadata": {
        "id": "BLSHIXmsTUl-"
      },
      "execution_count": null,
      "outputs": []
    },
    {
      "cell_type": "code",
      "source": [],
      "metadata": {
        "id": "0Id28ve_3HmF"
      },
      "execution_count": null,
      "outputs": []
    }
  ]
}