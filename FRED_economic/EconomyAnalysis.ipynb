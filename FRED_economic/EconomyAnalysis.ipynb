{
  "nbformat": 4,
  "nbformat_minor": 0,
  "metadata": {
    "colab": {
      "provenance": [],
      "collapsed_sections": [
        "q18xx964jG1n",
        "PbpdCfwzb5_P"
      ]
    },
    "kernelspec": {
      "name": "python3",
      "display_name": "Python 3"
    },
    "language_info": {
      "name": "python"
    }
  },
  "cells": [
    {
      "cell_type": "code",
      "execution_count": 1,
      "metadata": {
        "id": "bfwFs7Y88mxw",
        "colab": {
          "base_uri": "https://localhost:8080/"
        },
        "outputId": "60925981-52eb-45c5-9117-b142eff5e606"
      },
      "outputs": [
        {
          "output_type": "stream",
          "name": "stdout",
          "text": [
            "Drive already mounted at /content/drive; to attempt to forcibly remount, call drive.mount(\"/content/drive\", force_remount=True).\n"
          ]
        }
      ],
      "source": [
        "from google.colab import drive\n",
        "drive.mount('/content/drive')\n",
        "%matplotlib inline\n",
        "import matplotlib.pyplot as plt\n",
        "import matplotlib.dates as mdates\n",
        "import pandas as pd\n",
        "pd.set_option('display.max_columns', None)\n",
        "import os, requests, time\n",
        "from google.colab import userdata\n",
        "fred_api_key=userdata.get('FRED_API_KEY')"
      ]
    },
    {
      "cell_type": "markdown",
      "source": [
        "##### Explore the api (skip)"
      ],
      "metadata": {
        "id": "q18xx964jG1n"
      }
    },
    {
      "cell_type": "code",
      "source": [
        "BASE_URL = f\"https://api.stlouisfed.org/fred/category/children?\"\n",
        "API_KEY=fred_api_key\n",
        "store_list = []\n",
        "count=0\n",
        "DELAY=0.5\n",
        "def fetch_all_categories(category_id, parent_name=\"ROOT\" ):\n",
        "  global count\n",
        "  # if count>=50:\n",
        "  #   return\n",
        "  # print(f\"FETCHING category {category_id} with depth {count}\")\n",
        "  params = {\n",
        "      \"api_key\":API_KEY,\n",
        "      \"category_id\": category_id,\n",
        "      \"file_type\": \"json\"\n",
        "  }\n",
        "  response = requests.get(BASE_URL, params=params)\n",
        "  if response.status_code == 200:\n",
        "    data = response.json()\n",
        "    children_categories = data.get('categories')\n",
        "    for children_categorie in children_categories:\n",
        "      # print(children_categorie)\n",
        "      child_categori_id = children_categorie.get('id')\n",
        "      child_name = children_categorie.get(\"name\")\n",
        "      store_list.append({\n",
        "            \"parent_id\": children_categorie.get(\"parent_id\"),\n",
        "            \"parent_name\": parent_name,\n",
        "            \"category_id\": child_categori_id,\n",
        "            \"name\": children_categorie.get(\"name\"),\n",
        "            \"notes\": children_categorie.get(\"notes\", \"\")\n",
        "        })\n",
        "      count+=1\n",
        "      print(f\"COUNT: {count} FETCHING child category {child_categori_id} from parent_cateogy {category_id}\")\n",
        "      # print(count)\n",
        "      time.sleep(DELAY)\n",
        "      fetch_all_categories(child_categori_id, child_name)\n",
        "  else:\n",
        "      print(f\"Error: {response.status_code}, category: {category_id}\")\n",
        "      return\n",
        "\n",
        "fetch_all_categories(0)\n",
        "# print('STORE LIST ', store_list)\n",
        "categories_df = pd.DataFrame(store_list)"
      ],
      "metadata": {
        "id": "yj-BUI8_jI_x"
      },
      "execution_count": null,
      "outputs": []
    },
    {
      "cell_type": "code",
      "source": [
        "categories_df.to_csv(\"/content/drive/My Drive/freq_categories.csv\", index=False)\n",
        "drive.flush_and_unmount()"
      ],
      "metadata": {
        "id": "fNctJN9bjV3V"
      },
      "execution_count": null,
      "outputs": []
    },
    {
      "cell_type": "markdown",
      "source": [
        "# FUNCTIONS"
      ],
      "metadata": {
        "id": "PbpdCfwzb5_P"
      }
    },
    {
      "cell_type": "code",
      "source": [
        "def get_children_categories(category_id, api_key, parent_name=\"ROOT\" ):\n",
        "  store_list=[]\n",
        "  url=\"https://api.stlouisfed.org/fred/category/children?\"\n",
        "  params = {\n",
        "      \"api_key\":api_key,\n",
        "      \"category_id\": category_id,\n",
        "      \"file_type\": \"json\"\n",
        "  }\n",
        "  response = requests.get(url, params=params)\n",
        "  if response.status_code == 200:\n",
        "    data = response.json()\n",
        "    children_categories = data.get('categories')\n",
        "    for children_categorie in children_categories:\n",
        "      # print(children_categorie)\n",
        "      child_categori_id = children_categorie.get('id')\n",
        "      child_name = children_categorie.get(\"name\")\n",
        "      store_list.append({\n",
        "            \"parent_id\": children_categorie.get(\"parent_id\"),\n",
        "            \"parent_name\": parent_name,\n",
        "            \"category_id\": child_categori_id,\n",
        "            \"name\": children_categorie.get(\"name\"),\n",
        "            \"notes\": children_categorie.get(\"notes\", \"\")\n",
        "        })\n",
        "  else:\n",
        "      print(f\"Error: {response.status_code}, category: {category_id}\")\n",
        "      return\n",
        "  df=pd.DataFrame.from_dict(store_list)\n",
        "  print(df)\n",
        "\n",
        "# get_children_categories(0, fred_api_key)"
      ],
      "metadata": {
        "id": "08L9GfC8QeHt"
      },
      "execution_count": 2,
      "outputs": []
    },
    {
      "cell_type": "code",
      "source": [
        "def search_series(search_name, api_key,frequency_criteria=\"Monthly\"):\n",
        "  SEARCH_URL = f\"https://api.stlouisfed.org/fred/series/search?\"\n",
        "  store_list = []\n",
        "  params = {\n",
        "      \"api_key\":api_key,\n",
        "      \"search_text\":search_name,\n",
        "      \"file_type\": \"json\"\n",
        "  }\n",
        "  response = requests.get(SEARCH_URL, params=params)\n",
        "  if response.status_code == 200:\n",
        "    data = response.json()\n",
        "    # print(data.get(\"count\"))\n",
        "    series=data.get(\"seriess\")\n",
        "    for serie in series:\n",
        "      serie_id = serie.get(\"id\")\n",
        "      title = serie.get(\"title\")\n",
        "      frequency=serie.get(\"frequency\")\n",
        "      note = serie.get(\"notes\")\n",
        "      unit = serie.get(\"units\")\n",
        "      if frequency==frequency_criteria:\n",
        "        store_list.append({\"serie_id\":serie_id,\n",
        "                           \"title\":title,\n",
        "                           \"unit\": unit,\n",
        "                           \"notes\": note,\n",
        "                           \"seasonal_adjustment\":serie.get(\"seasonal_adjustment\")\n",
        "                           })\n",
        "  else:\n",
        "      print(f\"Error: {response.status_code}\")\n",
        "      return\n",
        "  return pd.DataFrame(store_list)\n",
        "\n"
      ],
      "metadata": {
        "id": "pBg_BDINcAT5"
      },
      "execution_count": 3,
      "outputs": []
    },
    {
      "cell_type": "code",
      "source": [
        "def get_time_series(serie_id, api_key,start_time=\"1776-07-04\", end_time=\"9999-12-31\"):\n",
        "  \"\"\"return daily time point\n",
        "  start time: 1776-07-04 is the earliest time\n",
        "  end time: 9999-12-31 (latest available)\n",
        "  \"\"\"\n",
        "  store_list = []\n",
        "  URL = f\"https://api.stlouisfed.org/fred/series/observations?\"\n",
        "  params = {\n",
        "      \"api_key\":api_key,\n",
        "      \"series_id\":serie_id,\n",
        "      \"file_type\": \"json\",\n",
        "      \"observation_start\": start_time,\n",
        "      \"observation_end\": end_time,\n",
        "\n",
        "  }\n",
        "  response = requests.get(URL, params=params )\n",
        "  if response.status_code == 200:\n",
        "    data = response.json()\n",
        "    observations = data.get(\"observations\")\n",
        "    for ob in observations:\n",
        "      store_list.append({\"Date\":ob.get(\"date\"), \"Value\":ob.get(\"value\")})\n",
        "  else:\n",
        "      print(f\"Error: {response.status_code}\")\n",
        "      return\n",
        "\n",
        "  res_df = pd.DataFrame(store_list)\n",
        "  #  Replace '.' with NaN\n",
        "  res_df['Value'] = pd.to_numeric(res_df['Value'], errors='coerce')\n",
        "  # Drop rows with NaN in 'value'\n",
        "  res_df.dropna(subset=['Date','Value'], inplace=True)\n",
        "  # set DatatimeIndex\n",
        "  res_df['Date'] = pd.to_datetime(res_df['Date'])\n",
        "  res_df['Value'] = res_df[\"Value\"].astype(float)\n",
        "  res_df = res_df.set_index('Date')\n",
        "  return res_df\n"
      ],
      "metadata": {
        "id": "vaGVmlT9kZKG"
      },
      "execution_count": 4,
      "outputs": []
    },
    {
      "cell_type": "code",
      "source": [
        "def get_serie_info(series_name, api_key):\n",
        "  store_list = []\n",
        "  URL = f\"https://api.stlouisfed.org/fred/series?\"\n",
        "  params = {\n",
        "      \"api_key\":api_key,\n",
        "      \"series_id\":series_name,\n",
        "      \"file_type\": \"json\",\n",
        "  }\n",
        "  response = requests.get(URL, params=params )\n",
        "  if response.status_code == 200:\n",
        "    data = response.json()\n",
        "    data = data.get(\"seriess\")[0]\n",
        "    print( pd.DataFrame.from_dict(data, orient='index', columns=['Value']))\n",
        "  else:\n",
        "      print(f\"Error: {response.status_code}\")\n",
        "      return\n",
        "  return\n",
        "get_serie_info(\"UNRATE\", fred_api_key)\n"
      ],
      "metadata": {
        "colab": {
          "base_uri": "https://localhost:8080/"
        },
        "id": "Jzbn_h0q84Mf",
        "outputId": "5cdcd868-18d0-49ba-8df0-0b731b66b0a2"
      },
      "execution_count": 5,
      "outputs": [
        {
          "output_type": "stream",
          "name": "stdout",
          "text": [
            "                                                                       Value\n",
            "id                                                                    UNRATE\n",
            "realtime_start                                                    2025-05-07\n",
            "realtime_end                                                      2025-05-07\n",
            "title                                                      Unemployment Rate\n",
            "observation_start                                                 1948-01-01\n",
            "observation_end                                                   2025-04-01\n",
            "frequency                                                            Monthly\n",
            "frequency_short                                                            M\n",
            "units                                                                Percent\n",
            "units_short                                                                %\n",
            "seasonal_adjustment                                      Seasonally Adjusted\n",
            "seasonal_adjustment_short                                                 SA\n",
            "last_updated                                          2025-05-02 07:46:04-05\n",
            "popularity                                                                95\n",
            "notes                      The unemployment rate represents the number of...\n"
          ]
        }
      ]
    },
    {
      "cell_type": "code",
      "source": [],
      "metadata": {
        "id": "f4_pcId8jqU8"
      },
      "execution_count": null,
      "outputs": []
    },
    {
      "cell_type": "markdown",
      "source": [
        "# Economic trend"
      ],
      "metadata": {
        "id": "cEfaoMqLjsWy"
      }
    },
    {
      "cell_type": "markdown",
      "source": [
        "## SP500 trend"
      ],
      "metadata": {
        "id": "cU4bqowD0BLU"
      }
    },
    {
      "cell_type": "code",
      "source": [
        "sp500_df=get_time_series(\"SP500\", fred_api_key)\n",
        "sp500_df.shape"
      ],
      "metadata": {
        "colab": {
          "base_uri": "https://localhost:8080/"
        },
        "id": "Xdwi5sDN0ATi",
        "outputId": "4f452702-6c2c-451d-bd17-90a16ce5fd5b"
      },
      "execution_count": 7,
      "outputs": [
        {
          "output_type": "execute_result",
          "data": {
            "text/plain": [
              "(2516, 1)"
            ]
          },
          "metadata": {},
          "execution_count": 7
        }
      ]
    },
    {
      "cell_type": "code",
      "source": [
        "sp500_df.info()\n",
        "sp500_df.head()"
      ],
      "metadata": {
        "colab": {
          "base_uri": "https://localhost:8080/",
          "height": 383
        },
        "id": "ceocbM4k1g83",
        "outputId": "ef9c0544-8529-457a-f646-8e795058ba9e"
      },
      "execution_count": 10,
      "outputs": [
        {
          "output_type": "stream",
          "name": "stdout",
          "text": [
            "<class 'pandas.core.frame.DataFrame'>\n",
            "DatetimeIndex: 2516 entries, 2015-06-01 to 2025-05-30\n",
            "Data columns (total 1 columns):\n",
            " #   Column  Non-Null Count  Dtype  \n",
            "---  ------  --------------  -----  \n",
            " 0   Value   2516 non-null   float64\n",
            "dtypes: float64(1)\n",
            "memory usage: 39.3 KB\n"
          ]
        },
        {
          "output_type": "execute_result",
          "data": {
            "text/plain": [
              "              Value\n",
              "Date               \n",
              "2015-06-01  2111.73\n",
              "2015-06-02  2109.60\n",
              "2015-06-03  2114.07\n",
              "2015-06-04  2095.84\n",
              "2015-06-05  2092.83"
            ],
            "text/html": [
              "\n",
              "  <div id=\"df-3ea3351f-680f-4d35-b339-1f8f7571819d\" class=\"colab-df-container\">\n",
              "    <div>\n",
              "<style scoped>\n",
              "    .dataframe tbody tr th:only-of-type {\n",
              "        vertical-align: middle;\n",
              "    }\n",
              "\n",
              "    .dataframe tbody tr th {\n",
              "        vertical-align: top;\n",
              "    }\n",
              "\n",
              "    .dataframe thead th {\n",
              "        text-align: right;\n",
              "    }\n",
              "</style>\n",
              "<table border=\"1\" class=\"dataframe\">\n",
              "  <thead>\n",
              "    <tr style=\"text-align: right;\">\n",
              "      <th></th>\n",
              "      <th>Value</th>\n",
              "    </tr>\n",
              "    <tr>\n",
              "      <th>Date</th>\n",
              "      <th></th>\n",
              "    </tr>\n",
              "  </thead>\n",
              "  <tbody>\n",
              "    <tr>\n",
              "      <th>2015-06-01</th>\n",
              "      <td>2111.73</td>\n",
              "    </tr>\n",
              "    <tr>\n",
              "      <th>2015-06-02</th>\n",
              "      <td>2109.60</td>\n",
              "    </tr>\n",
              "    <tr>\n",
              "      <th>2015-06-03</th>\n",
              "      <td>2114.07</td>\n",
              "    </tr>\n",
              "    <tr>\n",
              "      <th>2015-06-04</th>\n",
              "      <td>2095.84</td>\n",
              "    </tr>\n",
              "    <tr>\n",
              "      <th>2015-06-05</th>\n",
              "      <td>2092.83</td>\n",
              "    </tr>\n",
              "  </tbody>\n",
              "</table>\n",
              "</div>\n",
              "    <div class=\"colab-df-buttons\">\n",
              "\n",
              "  <div class=\"colab-df-container\">\n",
              "    <button class=\"colab-df-convert\" onclick=\"convertToInteractive('df-3ea3351f-680f-4d35-b339-1f8f7571819d')\"\n",
              "            title=\"Convert this dataframe to an interactive table.\"\n",
              "            style=\"display:none;\">\n",
              "\n",
              "  <svg xmlns=\"http://www.w3.org/2000/svg\" height=\"24px\" viewBox=\"0 -960 960 960\">\n",
              "    <path d=\"M120-120v-720h720v720H120Zm60-500h600v-160H180v160Zm220 220h160v-160H400v160Zm0 220h160v-160H400v160ZM180-400h160v-160H180v160Zm440 0h160v-160H620v160ZM180-180h160v-160H180v160Zm440 0h160v-160H620v160Z\"/>\n",
              "  </svg>\n",
              "    </button>\n",
              "\n",
              "  <style>\n",
              "    .colab-df-container {\n",
              "      display:flex;\n",
              "      gap: 12px;\n",
              "    }\n",
              "\n",
              "    .colab-df-convert {\n",
              "      background-color: #E8F0FE;\n",
              "      border: none;\n",
              "      border-radius: 50%;\n",
              "      cursor: pointer;\n",
              "      display: none;\n",
              "      fill: #1967D2;\n",
              "      height: 32px;\n",
              "      padding: 0 0 0 0;\n",
              "      width: 32px;\n",
              "    }\n",
              "\n",
              "    .colab-df-convert:hover {\n",
              "      background-color: #E2EBFA;\n",
              "      box-shadow: 0px 1px 2px rgba(60, 64, 67, 0.3), 0px 1px 3px 1px rgba(60, 64, 67, 0.15);\n",
              "      fill: #174EA6;\n",
              "    }\n",
              "\n",
              "    .colab-df-buttons div {\n",
              "      margin-bottom: 4px;\n",
              "    }\n",
              "\n",
              "    [theme=dark] .colab-df-convert {\n",
              "      background-color: #3B4455;\n",
              "      fill: #D2E3FC;\n",
              "    }\n",
              "\n",
              "    [theme=dark] .colab-df-convert:hover {\n",
              "      background-color: #434B5C;\n",
              "      box-shadow: 0px 1px 3px 1px rgba(0, 0, 0, 0.15);\n",
              "      filter: drop-shadow(0px 1px 2px rgba(0, 0, 0, 0.3));\n",
              "      fill: #FFFFFF;\n",
              "    }\n",
              "  </style>\n",
              "\n",
              "    <script>\n",
              "      const buttonEl =\n",
              "        document.querySelector('#df-3ea3351f-680f-4d35-b339-1f8f7571819d button.colab-df-convert');\n",
              "      buttonEl.style.display =\n",
              "        google.colab.kernel.accessAllowed ? 'block' : 'none';\n",
              "\n",
              "      async function convertToInteractive(key) {\n",
              "        const element = document.querySelector('#df-3ea3351f-680f-4d35-b339-1f8f7571819d');\n",
              "        const dataTable =\n",
              "          await google.colab.kernel.invokeFunction('convertToInteractive',\n",
              "                                                    [key], {});\n",
              "        if (!dataTable) return;\n",
              "\n",
              "        const docLinkHtml = 'Like what you see? Visit the ' +\n",
              "          '<a target=\"_blank\" href=https://colab.research.google.com/notebooks/data_table.ipynb>data table notebook</a>'\n",
              "          + ' to learn more about interactive tables.';\n",
              "        element.innerHTML = '';\n",
              "        dataTable['output_type'] = 'display_data';\n",
              "        await google.colab.output.renderOutput(dataTable, element);\n",
              "        const docLink = document.createElement('div');\n",
              "        docLink.innerHTML = docLinkHtml;\n",
              "        element.appendChild(docLink);\n",
              "      }\n",
              "    </script>\n",
              "  </div>\n",
              "\n",
              "\n",
              "    <div id=\"df-5fe17986-0b69-4be2-863f-72d2c349cc24\">\n",
              "      <button class=\"colab-df-quickchart\" onclick=\"quickchart('df-5fe17986-0b69-4be2-863f-72d2c349cc24')\"\n",
              "                title=\"Suggest charts\"\n",
              "                style=\"display:none;\">\n",
              "\n",
              "<svg xmlns=\"http://www.w3.org/2000/svg\" height=\"24px\"viewBox=\"0 0 24 24\"\n",
              "     width=\"24px\">\n",
              "    <g>\n",
              "        <path d=\"M19 3H5c-1.1 0-2 .9-2 2v14c0 1.1.9 2 2 2h14c1.1 0 2-.9 2-2V5c0-1.1-.9-2-2-2zM9 17H7v-7h2v7zm4 0h-2V7h2v10zm4 0h-2v-4h2v4z\"/>\n",
              "    </g>\n",
              "</svg>\n",
              "      </button>\n",
              "\n",
              "<style>\n",
              "  .colab-df-quickchart {\n",
              "      --bg-color: #E8F0FE;\n",
              "      --fill-color: #1967D2;\n",
              "      --hover-bg-color: #E2EBFA;\n",
              "      --hover-fill-color: #174EA6;\n",
              "      --disabled-fill-color: #AAA;\n",
              "      --disabled-bg-color: #DDD;\n",
              "  }\n",
              "\n",
              "  [theme=dark] .colab-df-quickchart {\n",
              "      --bg-color: #3B4455;\n",
              "      --fill-color: #D2E3FC;\n",
              "      --hover-bg-color: #434B5C;\n",
              "      --hover-fill-color: #FFFFFF;\n",
              "      --disabled-bg-color: #3B4455;\n",
              "      --disabled-fill-color: #666;\n",
              "  }\n",
              "\n",
              "  .colab-df-quickchart {\n",
              "    background-color: var(--bg-color);\n",
              "    border: none;\n",
              "    border-radius: 50%;\n",
              "    cursor: pointer;\n",
              "    display: none;\n",
              "    fill: var(--fill-color);\n",
              "    height: 32px;\n",
              "    padding: 0;\n",
              "    width: 32px;\n",
              "  }\n",
              "\n",
              "  .colab-df-quickchart:hover {\n",
              "    background-color: var(--hover-bg-color);\n",
              "    box-shadow: 0 1px 2px rgba(60, 64, 67, 0.3), 0 1px 3px 1px rgba(60, 64, 67, 0.15);\n",
              "    fill: var(--button-hover-fill-color);\n",
              "  }\n",
              "\n",
              "  .colab-df-quickchart-complete:disabled,\n",
              "  .colab-df-quickchart-complete:disabled:hover {\n",
              "    background-color: var(--disabled-bg-color);\n",
              "    fill: var(--disabled-fill-color);\n",
              "    box-shadow: none;\n",
              "  }\n",
              "\n",
              "  .colab-df-spinner {\n",
              "    border: 2px solid var(--fill-color);\n",
              "    border-color: transparent;\n",
              "    border-bottom-color: var(--fill-color);\n",
              "    animation:\n",
              "      spin 1s steps(1) infinite;\n",
              "  }\n",
              "\n",
              "  @keyframes spin {\n",
              "    0% {\n",
              "      border-color: transparent;\n",
              "      border-bottom-color: var(--fill-color);\n",
              "      border-left-color: var(--fill-color);\n",
              "    }\n",
              "    20% {\n",
              "      border-color: transparent;\n",
              "      border-left-color: var(--fill-color);\n",
              "      border-top-color: var(--fill-color);\n",
              "    }\n",
              "    30% {\n",
              "      border-color: transparent;\n",
              "      border-left-color: var(--fill-color);\n",
              "      border-top-color: var(--fill-color);\n",
              "      border-right-color: var(--fill-color);\n",
              "    }\n",
              "    40% {\n",
              "      border-color: transparent;\n",
              "      border-right-color: var(--fill-color);\n",
              "      border-top-color: var(--fill-color);\n",
              "    }\n",
              "    60% {\n",
              "      border-color: transparent;\n",
              "      border-right-color: var(--fill-color);\n",
              "    }\n",
              "    80% {\n",
              "      border-color: transparent;\n",
              "      border-right-color: var(--fill-color);\n",
              "      border-bottom-color: var(--fill-color);\n",
              "    }\n",
              "    90% {\n",
              "      border-color: transparent;\n",
              "      border-bottom-color: var(--fill-color);\n",
              "    }\n",
              "  }\n",
              "</style>\n",
              "\n",
              "      <script>\n",
              "        async function quickchart(key) {\n",
              "          const quickchartButtonEl =\n",
              "            document.querySelector('#' + key + ' button');\n",
              "          quickchartButtonEl.disabled = true;  // To prevent multiple clicks.\n",
              "          quickchartButtonEl.classList.add('colab-df-spinner');\n",
              "          try {\n",
              "            const charts = await google.colab.kernel.invokeFunction(\n",
              "                'suggestCharts', [key], {});\n",
              "          } catch (error) {\n",
              "            console.error('Error during call to suggestCharts:', error);\n",
              "          }\n",
              "          quickchartButtonEl.classList.remove('colab-df-spinner');\n",
              "          quickchartButtonEl.classList.add('colab-df-quickchart-complete');\n",
              "        }\n",
              "        (() => {\n",
              "          let quickchartButtonEl =\n",
              "            document.querySelector('#df-5fe17986-0b69-4be2-863f-72d2c349cc24 button');\n",
              "          quickchartButtonEl.style.display =\n",
              "            google.colab.kernel.accessAllowed ? 'block' : 'none';\n",
              "        })();\n",
              "      </script>\n",
              "    </div>\n",
              "\n",
              "    </div>\n",
              "  </div>\n"
            ],
            "application/vnd.google.colaboratory.intrinsic+json": {
              "type": "dataframe",
              "variable_name": "sp500_df",
              "summary": "{\n  \"name\": \"sp500_df\",\n  \"rows\": 2516,\n  \"fields\": [\n    {\n      \"column\": \"Date\",\n      \"properties\": {\n        \"dtype\": \"date\",\n        \"min\": \"2015-06-01 00:00:00\",\n        \"max\": \"2025-05-30 00:00:00\",\n        \"num_unique_values\": 2516,\n        \"samples\": [\n          \"2017-11-08 00:00:00\",\n          \"2019-02-05 00:00:00\",\n          \"2019-02-27 00:00:00\"\n        ],\n        \"semantic_type\": \"\",\n        \"description\": \"\"\n      }\n    },\n    {\n      \"column\": \"Value\",\n      \"properties\": {\n        \"dtype\": \"number\",\n        \"std\": 1151.262889674524,\n        \"min\": 1829.08,\n        \"max\": 6144.15,\n        \"num_unique_values\": 2507,\n        \"samples\": [\n          4495.7,\n          2079.61,\n          5287.76\n        ],\n        \"semantic_type\": \"\",\n        \"description\": \"\"\n      }\n    }\n  ]\n}"
            }
          },
          "metadata": {},
          "execution_count": 10
        }
      ]
    },
    {
      "cell_type": "code",
      "source": [
        "plt.plot(sp500_df.index, sp500_df.Value)\n",
        "plt.title(\"S&P 500 over time\")\n",
        "plt.xlabel(\"Year\")\n",
        "plt.ylabel(\"Value\")"
      ],
      "metadata": {
        "colab": {
          "base_uri": "https://localhost:8080/",
          "height": 490
        },
        "id": "zomdGAs80kQg",
        "outputId": "6685d7be-3010-4336-f8dc-a90db17e39d1"
      },
      "execution_count": 9,
      "outputs": [
        {
          "output_type": "execute_result",
          "data": {
            "text/plain": [
              "Text(0, 0.5, 'Value')"
            ]
          },
          "metadata": {},
          "execution_count": 9
        },
        {
          "output_type": "display_data",
          "data": {
            "text/plain": [
              "<Figure size 640x480 with 1 Axes>"
            ],
            "image/png": "[encoded data removed]"
          },
          "metadata": {}
        }
      ]
    },
    {
      "cell_type": "markdown",
      "source": [
        "## Unemployment and GDP trend over time"
      ],
      "metadata": {
        "id": "kTbHhDo0R42L"
      }
    },
    {
      "cell_type": "code",
      "source": [
        "unrate_df=get_time_series(\"UNRATE\", fred_api_key)\n",
        "unrate_df.rename(columns={\"Value\":\"Unemployment_Rate\"}, inplace=True)\n",
        "gdp_df = get_time_series(\"GDP\", fred_api_key)\n",
        "gdp_df.rename(columns={\"Value\":\"GDP\"}, inplace=True)\n",
        "merge_df = pd.merge(unrate_df, gdp_df, on=\"Date\")\n",
        "print(unrate_df.shape, gdp_df.shape, merge_df.shape)"
      ],
      "metadata": {
        "colab": {
          "base_uri": "https://localhost:8080/"
        },
        "id": "LE_aGPfj6T7k",
        "outputId": "8a4040cf-896c-462f-b72b-e13591a226e7"
      },
      "execution_count": 14,
      "outputs": [
        {
          "output_type": "stream",
          "name": "stdout",
          "text": [
            "(928, 1) (313, 1) (309, 2)\n"
          ]
        }
      ]
    },
    {
      "cell_type": "code",
      "source": [
        "merge_df.head()"
      ],
      "metadata": {
        "colab": {
          "base_uri": "https://localhost:8080/",
          "height": 237
        },
        "id": "DnI1Tjbj7zyy",
        "outputId": "b7f04120-1230-4a2b-c01f-7208257efed2"
      },
      "execution_count": 15,
      "outputs": [
        {
          "output_type": "execute_result",
          "data": {
            "text/plain": [
              "            Unemployment_Rate      GDP\n",
              "Date                                  \n",
              "1948-01-01                3.4  265.742\n",
              "1948-04-01                3.9  272.567\n",
              "1948-07-01                3.6  279.196\n",
              "1948-10-01                3.7  280.366\n",
              "1949-01-01                4.3  275.034"
            ],
            "text/html": [
              "\n",
              "  <div id=\"df-b6428916-8f64-4f0c-b2f0-ac71d9bb3af0\" class=\"colab-df-container\">\n",
              "    <div>\n",
              "<style scoped>\n",
              "    .dataframe tbody tr th:only-of-type {\n",
              "        vertical-align: middle;\n",
              "    }\n",
              "\n",
              "    .dataframe tbody tr th {\n",
              "        vertical-align: top;\n",
              "    }\n",
              "\n",
              "    .dataframe thead th {\n",
              "        text-align: right;\n",
              "    }\n",
              "</style>\n",
              "<table border=\"1\" class=\"dataframe\">\n",
              "  <thead>\n",
              "    <tr style=\"text-align: right;\">\n",
              "      <th></th>\n",
              "      <th>Unemployment_Rate</th>\n",
              "      <th>GDP</th>\n",
              "    </tr>\n",
              "    <tr>\n",
              "      <th>Date</th>\n",
              "      <th></th>\n",
              "      <th></th>\n",
              "    </tr>\n",
              "  </thead>\n",
              "  <tbody>\n",
              "    <tr>\n",
              "      <th>1948-01-01</th>\n",
              "      <td>3.4</td>\n",
              "      <td>265.742</td>\n",
              "    </tr>\n",
              "    <tr>\n",
              "      <th>1948-04-01</th>\n",
              "      <td>3.9</td>\n",
              "      <td>272.567</td>\n",
              "    </tr>\n",
              "    <tr>\n",
              "      <th>1948-07-01</th>\n",
              "      <td>3.6</td>\n",
              "      <td>279.196</td>\n",
              "    </tr>\n",
              "    <tr>\n",
              "      <th>1948-10-01</th>\n",
              "      <td>3.7</td>\n",
              "      <td>280.366</td>\n",
              "    </tr>\n",
              "    <tr>\n",
              "      <th>1949-01-01</th>\n",
              "      <td>4.3</td>\n",
              "      <td>275.034</td>\n",
              "    </tr>\n",
              "  </tbody>\n",
              "</table>\n",
              "</div>\n",
              "    <div class=\"colab-df-buttons\">\n",
              "\n",
              "  <div class=\"colab-df-container\">\n",
              "    <button class=\"colab-df-convert\" onclick=\"convertToInteractive('df-b6428916-8f64-4f0c-b2f0-ac71d9bb3af0')\"\n",
              "            title=\"Convert this dataframe to an interactive table.\"\n",
              "            style=\"display:none;\">\n",
              "\n",
              "  <svg xmlns=\"http://www.w3.org/2000/svg\" height=\"24px\" viewBox=\"0 -960 960 960\">\n",
              "    <path d=\"M120-120v-720h720v720H120Zm60-500h600v-160H180v160Zm220 220h160v-160H400v160Zm0 220h160v-160H400v160ZM180-400h160v-160H180v160Zm440 0h160v-160H620v160ZM180-180h160v-160H180v160Zm440 0h160v-160H620v160Z\"/>\n",
              "  </svg>\n",
              "    </button>\n",
              "\n",
              "  <style>\n",
              "    .colab-df-container {\n",
              "      display:flex;\n",
              "      gap: 12px;\n",
              "    }\n",
              "\n",
              "    .colab-df-convert {\n",
              "      background-color: #E8F0FE;\n",
              "      border: none;\n",
              "      border-radius: 50%;\n",
              "      cursor: pointer;\n",
              "      display: none;\n",
              "      fill: #1967D2;\n",
              "      height: 32px;\n",
              "      padding: 0 0 0 0;\n",
              "      width: 32px;\n",
              "    }\n",
              "\n",
              "    .colab-df-convert:hover {\n",
              "      background-color: #E2EBFA;\n",
              "      box-shadow: 0px 1px 2px rgba(60, 64, 67, 0.3), 0px 1px 3px 1px rgba(60, 64, 67, 0.15);\n",
              "      fill: #174EA6;\n",
              "    }\n",
              "\n",
              "    .colab-df-buttons div {\n",
              "      margin-bottom: 4px;\n",
              "    }\n",
              "\n",
              "    [theme=dark] .colab-df-convert {\n",
              "      background-color: #3B4455;\n",
              "      fill: #D2E3FC;\n",
              "    }\n",
              "\n",
              "    [theme=dark] .colab-df-convert:hover {\n",
              "      background-color: #434B5C;\n",
              "      box-shadow: 0px 1px 3px 1px rgba(0, 0, 0, 0.15);\n",
              "      filter: drop-shadow(0px 1px 2px rgba(0, 0, 0, 0.3));\n",
              "      fill: #FFFFFF;\n",
              "    }\n",
              "  </style>\n",
              "\n",
              "    <script>\n",
              "      const buttonEl =\n",
              "        document.querySelector('#df-b6428916-8f64-4f0c-b2f0-ac71d9bb3af0 button.colab-df-convert');\n",
              "      buttonEl.style.display =\n",
              "        google.colab.kernel.accessAllowed ? 'block' : 'none';\n",
              "\n",
              "      async function convertToInteractive(key) {\n",
              "        const element = document.querySelector('#df-b6428916-8f64-4f0c-b2f0-ac71d9bb3af0');\n",
              "        const dataTable =\n",
              "          await google.colab.kernel.invokeFunction('convertToInteractive',\n",
              "                                                    [key], {});\n",
              "        if (!dataTable) return;\n",
              "\n",
              "        const docLinkHtml = 'Like what you see? Visit the ' +\n",
              "          '<a target=\"_blank\" href=https://colab.research.google.com/notebooks/data_table.ipynb>data table notebook</a>'\n",
              "          + ' to learn more about interactive tables.';\n",
              "        element.innerHTML = '';\n",
              "        dataTable['output_type'] = 'display_data';\n",
              "        await google.colab.output.renderOutput(dataTable, element);\n",
              "        const docLink = document.createElement('div');\n",
              "        docLink.innerHTML = docLinkHtml;\n",
              "        element.appendChild(docLink);\n",
              "      }\n",
              "    </script>\n",
              "  </div>\n",
              "\n",
              "\n",
              "    <div id=\"df-d263e290-50cf-468e-b8e3-9b44e0b2bfc1\">\n",
              "      <button class=\"colab-df-quickchart\" onclick=\"quickchart('df-d263e290-50cf-468e-b8e3-9b44e0b2bfc1')\"\n",
              "                title=\"Suggest charts\"\n",
              "                style=\"display:none;\">\n",
              "\n",
              "<svg xmlns=\"http://www.w3.org/2000/svg\" height=\"24px\"viewBox=\"0 0 24 24\"\n",
              "     width=\"24px\">\n",
              "    <g>\n",
              "        <path d=\"M19 3H5c-1.1 0-2 .9-2 2v14c0 1.1.9 2 2 2h14c1.1 0 2-.9 2-2V5c0-1.1-.9-2-2-2zM9 17H7v-7h2v7zm4 0h-2V7h2v10zm4 0h-2v-4h2v4z\"/>\n",
              "    </g>\n",
              "</svg>\n",
              "      </button>\n",
              "\n",
              "<style>\n",
              "  .colab-df-quickchart {\n",
              "      --bg-color: #E8F0FE;\n",
              "      --fill-color: #1967D2;\n",
              "      --hover-bg-color: #E2EBFA;\n",
              "      --hover-fill-color: #174EA6;\n",
              "      --disabled-fill-color: #AAA;\n",
              "      --disabled-bg-color: #DDD;\n",
              "  }\n",
              "\n",
              "  [theme=dark] .colab-df-quickchart {\n",
              "      --bg-color: #3B4455;\n",
              "      --fill-color: #D2E3FC;\n",
              "      --hover-bg-color: #434B5C;\n",
              "      --hover-fill-color: #FFFFFF;\n",
              "      --disabled-bg-color: #3B4455;\n",
              "      --disabled-fill-color: #666;\n",
              "  }\n",
              "\n",
              "  .colab-df-quickchart {\n",
              "    background-color: var(--bg-color);\n",
              "    border: none;\n",
              "    border-radius: 50%;\n",
              "    cursor: pointer;\n",
              "    display: none;\n",
              "    fill: var(--fill-color);\n",
              "    height: 32px;\n",
              "    padding: 0;\n",
              "    width: 32px;\n",
              "  }\n",
              "\n",
              "  .colab-df-quickchart:hover {\n",
              "    background-color: var(--hover-bg-color);\n",
              "    box-shadow: 0 1px 2px rgba(60, 64, 67, 0.3), 0 1px 3px 1px rgba(60, 64, 67, 0.15);\n",
              "    fill: var(--button-hover-fill-color);\n",
              "  }\n",
              "\n",
              "  .colab-df-quickchart-complete:disabled,\n",
              "  .colab-df-quickchart-complete:disabled:hover {\n",
              "    background-color: var(--disabled-bg-color);\n",
              "    fill: var(--disabled-fill-color);\n",
              "    box-shadow: none;\n",
              "  }\n",
              "\n",
              "  .colab-df-spinner {\n",
              "    border: 2px solid var(--fill-color);\n",
              "    border-color: transparent;\n",
              "    border-bottom-color: var(--fill-color);\n",
              "    animation:\n",
              "      spin 1s steps(1) infinite;\n",
              "  }\n",
              "\n",
              "  @keyframes spin {\n",
              "    0% {\n",
              "      border-color: transparent;\n",
              "      border-bottom-color: var(--fill-color);\n",
              "      border-left-color: var(--fill-color);\n",
              "    }\n",
              "    20% {\n",
              "      border-color: transparent;\n",
              "      border-left-color: var(--fill-color);\n",
              "      border-top-color: var(--fill-color);\n",
              "    }\n",
              "    30% {\n",
              "      border-color: transparent;\n",
              "      border-left-color: var(--fill-color);\n",
              "      border-top-color: var(--fill-color);\n",
              "      border-right-color: var(--fill-color);\n",
              "    }\n",
              "    40% {\n",
              "      border-color: transparent;\n",
              "      border-right-color: var(--fill-color);\n",
              "      border-top-color: var(--fill-color);\n",
              "    }\n",
              "    60% {\n",
              "      border-color: transparent;\n",
              "      border-right-color: var(--fill-color);\n",
              "    }\n",
              "    80% {\n",
              "      border-color: transparent;\n",
              "      border-right-color: var(--fill-color);\n",
              "      border-bottom-color: var(--fill-color);\n",
              "    }\n",
              "    90% {\n",
              "      border-color: transparent;\n",
              "      border-bottom-color: var(--fill-color);\n",
              "    }\n",
              "  }\n",
              "</style>\n",
              "\n",
              "      <script>\n",
              "        async function quickchart(key) {\n",
              "          const quickchartButtonEl =\n",
              "            document.querySelector('#' + key + ' button');\n",
              "          quickchartButtonEl.disabled = true;  // To prevent multiple clicks.\n",
              "          quickchartButtonEl.classList.add('colab-df-spinner');\n",
              "          try {\n",
              "            const charts = await google.colab.kernel.invokeFunction(\n",
              "                'suggestCharts', [key], {});\n",
              "          } catch (error) {\n",
              "            console.error('Error during call to suggestCharts:', error);\n",
              "          }\n",
              "          quickchartButtonEl.classList.remove('colab-df-spinner');\n",
              "          quickchartButtonEl.classList.add('colab-df-quickchart-complete');\n",
              "        }\n",
              "        (() => {\n",
              "          let quickchartButtonEl =\n",
              "            document.querySelector('#df-d263e290-50cf-468e-b8e3-9b44e0b2bfc1 button');\n",
              "          quickchartButtonEl.style.display =\n",
              "            google.colab.kernel.accessAllowed ? 'block' : 'none';\n",
              "        })();\n",
              "      </script>\n",
              "    </div>\n",
              "\n",
              "    </div>\n",
              "  </div>\n"
            ],
            "application/vnd.google.colaboratory.intrinsic+json": {
              "type": "dataframe",
              "variable_name": "merge_df",
              "summary": "{\n  \"name\": \"merge_df\",\n  \"rows\": 309,\n  \"fields\": [\n    {\n      \"column\": \"Date\",\n      \"properties\": {\n        \"dtype\": \"date\",\n        \"min\": \"1948-01-01 00:00:00\",\n        \"max\": \"2025-01-01 00:00:00\",\n        \"num_unique_values\": 309,\n        \"samples\": [\n          \"2020-01-01 00:00:00\",\n          \"1950-04-01 00:00:00\",\n          \"1962-04-01 00:00:00\"\n        ],\n        \"semantic_type\": \"\",\n        \"description\": \"\"\n      }\n    },\n    {\n      \"column\": \"Unemployment_Rate\",\n      \"properties\": {\n        \"dtype\": \"number\",\n        \"std\": 1.7443269238974948,\n        \"min\": 2.6,\n        \"max\": 14.8,\n        \"num_unique_values\": 70,\n        \"samples\": [\n          4.7,\n          3.4,\n          6.4\n        ],\n        \"semantic_type\": \"\",\n        \"description\": \"\"\n      }\n    },\n    {\n      \"column\": \"GDP\",\n      \"properties\": {\n        \"dtype\": \"number\",\n        \"std\": 7875.148095838082,\n        \"min\": 265.742,\n        \"max\": 29976.638,\n        \"num_unique_values\": 309,\n        \"samples\": [\n          21727.657,\n          290.383,\n          600.366\n        ],\n        \"semantic_type\": \"\",\n        \"description\": \"\"\n      }\n    }\n  ]\n}"
            }
          },
          "metadata": {},
          "execution_count": 15
        }
      ]
    },
    {
      "cell_type": "markdown",
      "source": [
        "plot all the points"
      ],
      "metadata": {
        "id": "_aCpxfd9_gyT"
      }
    },
    {
      "cell_type": "code",
      "source": [
        "fig , ax1 = plt.subplots()\n",
        "#plot GDP data\n",
        "ax1.plot(merge_df.index, merge_df.GDP, color=\"blue\", marker=\"o\")\n",
        "ax1.set_xlabel(\"Year\")\n",
        "ax1.set_ylabel(\"GDP (Billions of Dollars)\", color=\"blue\")\n",
        "ax1.tick_params(axis='y', labelcolor='blue')\n",
        "#second y-axis\n",
        "ax2 = ax1.twinx()\n",
        "\n",
        "ax2.plot(merge_df.index, merge_df.Unemployment_Rate, color=\"red\", marker=\"x\")\n",
        "ax2.set_ylabel('Unemployment Rate (Percent)', color='red')\n",
        "ax2.tick_params(axis='y', labelcolor='red')\n",
        "\n",
        "# # Set x ticks every year\n",
        "# ax1.xaxis.set_major_locator(mdates.YearLocator(1))\n",
        "# ax1.xaxis.set_major_formatter(mdates.DateFormatter('%Y'))\n",
        "\n",
        "plt.show()"
      ],
      "metadata": {
        "colab": {
          "base_uri": "https://localhost:8080/",
          "height": 449
        },
        "id": "G319sl027hUt",
        "outputId": "794b5a69-7355-4b84-bc4f-160998898ea1"
      },
      "execution_count": 16,
      "outputs": [
        {
          "output_type": "display_data",
          "data": {
            "text/plain": [
              "<Figure size 640x480 with 2 Axes>"
            ],
            "image/png": "[encoded data removed]"
          },
          "metadata": {}
        }
      ]
    },
    {
      "cell_type": "markdown",
      "source": [
        "plot on specific time interval"
      ],
      "metadata": {
        "id": "qcxDmjnw_jMi"
      }
    },
    {
      "cell_type": "code",
      "source": [
        "merge_df_=merge_df[merge_df.index>\"2000\"]\n",
        "merge_df_.shape\n",
        "fig , ax1 = plt.subplots()\n",
        "#plot GDP data\n",
        "ax1.plot(merge_df_.index, merge_df_.GDP, color=\"blue\", marker=\"o\")\n",
        "ax1.set_xlabel(\"Year\")\n",
        "ax1.set_ylabel(\"GDP (Billions of Dollars)\", color=\"blue\")\n",
        "ax1.tick_params(axis='y', labelcolor='blue')\n",
        "\n",
        "\n",
        "# Rotate x-axis tick labels 90 degrees\n",
        "for label in ax1.get_xticklabels():\n",
        "    label.set_rotation(45)\n",
        "    label.set_horizontalalignment('center')\n",
        "#second y-axis\n",
        "ax2 = ax1.twinx()\n",
        "ax2.plot(merge_df_.index, merge_df_.Unemployment_Rate, color=\"red\", marker=\"x\")\n",
        "ax2.set_ylabel('Unemployment Rate (Percent)', color='red')\n",
        "ax2.tick_params(axis='y', labelcolor='red')\n",
        "\n",
        "\n",
        "# Set x ticks every year\n",
        "ax1.xaxis.set_major_locator(mdates.YearLocator(1))\n",
        "ax1.xaxis.set_major_formatter(mdates.DateFormatter('%Y'))\n",
        "\n",
        "plt.show()"
      ],
      "metadata": {
        "colab": {
          "base_uri": "https://localhost:8080/",
          "height": 470
        },
        "id": "sto0c7mh_lVC",
        "outputId": "d422e35a-55b0-425a-f2e4-66265ab69be2"
      },
      "execution_count": 17,
      "outputs": [
        {
          "output_type": "display_data",
          "data": {
            "text/plain": [
              "<Figure size 640x480 with 2 Axes>"
            ],
            "image/png": "[encoded data removed]"
          },
          "metadata": {}
        }
      ]
    },
    {
      "cell_type": "markdown",
      "source": [
        "## Unemployment by States"
      ],
      "metadata": {
        "id": "FMVCPIdqR_Jh"
      }
    },
    {
      "cell_type": "markdown",
      "source": [
        "### get series name to analyze"
      ],
      "metadata": {
        "id": "KbJ38BEhUXC1"
      }
    },
    {
      "cell_type": "code",
      "source": [
        "unemployment_series_df = search_series(\"unemployment\", fred_api_key, \"Monthly\" )\n",
        "unemployment_series_df.shape"
      ],
      "metadata": {
        "colab": {
          "base_uri": "https://localhost:8080/"
        },
        "id": "KJct7M9ekB1B",
        "outputId": "a7ed23a7-a141-4f6a-9844-7de05926db26"
      },
      "execution_count": 18,
      "outputs": [
        {
          "output_type": "execute_result",
          "data": {
            "text/plain": [
              "(206, 5)"
            ]
          },
          "metadata": {},
          "execution_count": 18
        }
      ]
    },
    {
      "cell_type": "code",
      "source": [
        "unemployment_series_filter_df = unemployment_series_df[(unemployment_series_df.title.str.contains(\"Unemployment Rate in\", case=False))\n",
        " & (unemployment_series_df.seasonal_adjustment==\"Seasonally Adjusted\") & (unemployment_series_df.serie_id.str.endswith(\"R\"))]\n",
        "unemployment_series_filter_df['State'] = unemployment_series_filter_df.title.str.replace(\"Unemployment Rate in \",\"\")\n",
        "unemployment_series_filter_df.head()"
      ],
      "metadata": {
        "colab": {
          "base_uri": "https://localhost:8080/",
          "height": 316
        },
        "id": "RtRtyPZ75kpV",
        "outputId": "3b0e4010-0449-486e-9d4b-49b565c7b510"
      },
      "execution_count": 19,
      "outputs": [
        {
          "output_type": "stream",
          "name": "stderr",
          "text": [
            "<ipython-input-19-5993c87b816f>:3: SettingWithCopyWarning: \n",
            "A value is trying to be set on a copy of a slice from a DataFrame.\n",
            "Try using .loc[row_indexer,col_indexer] = value instead\n",
            "\n",
            "See the caveats in the documentation: https://pandas.pydata.org/pandas-docs/stable/user_guide/indexing.html#returning-a-view-versus-a-copy\n",
            "  unemployment_series_filter_df['State'] = unemployment_series_filter_df.title.str.replace(\"Unemployment Rate in \",\"\")\n"
          ]
        },
        {
          "output_type": "execute_result",
          "data": {
            "text/plain": [
              "   serie_id                              title     unit notes  \\\n",
              "7      CAUR    Unemployment Rate in California  Percent  None   \n",
              "10     TXUR         Unemployment Rate in Texas  Percent  None   \n",
              "17     NYUR      Unemployment Rate in New York  Percent  None   \n",
              "21     FLUR       Unemployment Rate in Florida  Percent  None   \n",
              "43     PAUR  Unemployment Rate in Pennsylvania  Percent  None   \n",
              "\n",
              "    seasonal_adjustment         State  \n",
              "7   Seasonally Adjusted    California  \n",
              "10  Seasonally Adjusted         Texas  \n",
              "17  Seasonally Adjusted      New York  \n",
              "21  Seasonally Adjusted       Florida  \n",
              "43  Seasonally Adjusted  Pennsylvania  "
            ],
            "text/html": [
              "\n",
              "  <div id=\"df-5b71d64c-d978-40f3-a711-6c6f33178794\" class=\"colab-df-container\">\n",
              "    <div>\n",
              "<style scoped>\n",
              "    .dataframe tbody tr th:only-of-type {\n",
              "        vertical-align: middle;\n",
              "    }\n",
              "\n",
              "    .dataframe tbody tr th {\n",
              "        vertical-align: top;\n",
              "    }\n",
              "\n",
              "    .dataframe thead th {\n",
              "        text-align: right;\n",
              "    }\n",
              "</style>\n",
              "<table border=\"1\" class=\"dataframe\">\n",
              "  <thead>\n",
              "    <tr style=\"text-align: right;\">\n",
              "      <th></th>\n",
              "      <th>serie_id</th>\n",
              "      <th>title</th>\n",
              "      <th>unit</th>\n",
              "      <th>notes</th>\n",
              "      <th>seasonal_adjustment</th>\n",
              "      <th>State</th>\n",
              "    </tr>\n",
              "  </thead>\n",
              "  <tbody>\n",
              "    <tr>\n",
              "      <th>7</th>\n",
              "      <td>CAUR</td>\n",
              "      <td>Unemployment Rate in California</td>\n",
              "      <td>Percent</td>\n",
              "      <td>None</td>\n",
              "      <td>Seasonally Adjusted</td>\n",
              "      <td>California</td>\n",
              "    </tr>\n",
              "    <tr>\n",
              "      <th>10</th>\n",
              "      <td>TXUR</td>\n",
              "      <td>Unemployment Rate in Texas</td>\n",
              "      <td>Percent</td>\n",
              "      <td>None</td>\n",
              "      <td>Seasonally Adjusted</td>\n",
              "      <td>Texas</td>\n",
              "    </tr>\n",
              "    <tr>\n",
              "      <th>17</th>\n",
              "      <td>NYUR</td>\n",
              "      <td>Unemployment Rate in New York</td>\n",
              "      <td>Percent</td>\n",
              "      <td>None</td>\n",
              "      <td>Seasonally Adjusted</td>\n",
              "      <td>New York</td>\n",
              "    </tr>\n",
              "    <tr>\n",
              "      <th>21</th>\n",
              "      <td>FLUR</td>\n",
              "      <td>Unemployment Rate in Florida</td>\n",
              "      <td>Percent</td>\n",
              "      <td>None</td>\n",
              "      <td>Seasonally Adjusted</td>\n",
              "      <td>Florida</td>\n",
              "    </tr>\n",
              "    <tr>\n",
              "      <th>43</th>\n",
              "      <td>PAUR</td>\n",
              "      <td>Unemployment Rate in Pennsylvania</td>\n",
              "      <td>Percent</td>\n",
              "      <td>None</td>\n",
              "      <td>Seasonally Adjusted</td>\n",
              "      <td>Pennsylvania</td>\n",
              "    </tr>\n",
              "  </tbody>\n",
              "</table>\n",
              "</div>\n",
              "    <div class=\"colab-df-buttons\">\n",
              "\n",
              "  <div class=\"colab-df-container\">\n",
              "    <button class=\"colab-df-convert\" onclick=\"convertToInteractive('df-5b71d64c-d978-40f3-a711-6c6f33178794')\"\n",
              "            title=\"Convert this dataframe to an interactive table.\"\n",
              "            style=\"display:none;\">\n",
              "\n",
              "  <svg xmlns=\"http://www.w3.org/2000/svg\" height=\"24px\" viewBox=\"0 -960 960 960\">\n",
              "    <path d=\"M120-120v-720h720v720H120Zm60-500h600v-160H180v160Zm220 220h160v-160H400v160Zm0 220h160v-160H400v160ZM180-400h160v-160H180v160Zm440 0h160v-160H620v160ZM180-180h160v-160H180v160Zm440 0h160v-160H620v160Z\"/>\n",
              "  </svg>\n",
              "    </button>\n",
              "\n",
              "  <style>\n",
              "    .colab-df-container {\n",
              "      display:flex;\n",
              "      gap: 12px;\n",
              "    }\n",
              "\n",
              "    .colab-df-convert {\n",
              "      background-color: #E8F0FE;\n",
              "      border: none;\n",
              "      border-radius: 50%;\n",
              "      cursor: pointer;\n",
              "      display: none;\n",
              "      fill: #1967D2;\n",
              "      height: 32px;\n",
              "      padding: 0 0 0 0;\n",
              "      width: 32px;\n",
              "    }\n",
              "\n",
              "    .colab-df-convert:hover {\n",
              "      background-color: #E2EBFA;\n",
              "      box-shadow: 0px 1px 2px rgba(60, 64, 67, 0.3), 0px 1px 3px 1px rgba(60, 64, 67, 0.15);\n",
              "      fill: #174EA6;\n",
              "    }\n",
              "\n",
              "    .colab-df-buttons div {\n",
              "      margin-bottom: 4px;\n",
              "    }\n",
              "\n",
              "    [theme=dark] .colab-df-convert {\n",
              "      background-color: #3B4455;\n",
              "      fill: #D2E3FC;\n",
              "    }\n",
              "\n",
              "    [theme=dark] .colab-df-convert:hover {\n",
              "      background-color: #434B5C;\n",
              "      box-shadow: 0px 1px 3px 1px rgba(0, 0, 0, 0.15);\n",
              "      filter: drop-shadow(0px 1px 2px rgba(0, 0, 0, 0.3));\n",
              "      fill: #FFFFFF;\n",
              "    }\n",
              "  </style>\n",
              "\n",
              "    <script>\n",
              "      const buttonEl =\n",
              "        document.querySelector('#df-5b71d64c-d978-40f3-a711-6c6f33178794 button.colab-df-convert');\n",
              "      buttonEl.style.display =\n",
              "        google.colab.kernel.accessAllowed ? 'block' : 'none';\n",
              "\n",
              "      async function convertToInteractive(key) {\n",
              "        const element = document.querySelector('#df-5b71d64c-d978-40f3-a711-6c6f33178794');\n",
              "        const dataTable =\n",
              "          await google.colab.kernel.invokeFunction('convertToInteractive',\n",
              "                                                    [key], {});\n",
              "        if (!dataTable) return;\n",
              "\n",
              "        const docLinkHtml = 'Like what you see? Visit the ' +\n",
              "          '<a target=\"_blank\" href=https://colab.research.google.com/notebooks/data_table.ipynb>data table notebook</a>'\n",
              "          + ' to learn more about interactive tables.';\n",
              "        element.innerHTML = '';\n",
              "        dataTable['output_type'] = 'display_data';\n",
              "        await google.colab.output.renderOutput(dataTable, element);\n",
              "        const docLink = document.createElement('div');\n",
              "        docLink.innerHTML = docLinkHtml;\n",
              "        element.appendChild(docLink);\n",
              "      }\n",
              "    </script>\n",
              "  </div>\n",
              "\n",
              "\n",
              "    <div id=\"df-63d829d9-d1fa-4f3b-bb66-f4c0739a87cc\">\n",
              "      <button class=\"colab-df-quickchart\" onclick=\"quickchart('df-63d829d9-d1fa-4f3b-bb66-f4c0739a87cc')\"\n",
              "                title=\"Suggest charts\"\n",
              "                style=\"display:none;\">\n",
              "\n",
              "<svg xmlns=\"http://www.w3.org/2000/svg\" height=\"24px\"viewBox=\"0 0 24 24\"\n",
              "     width=\"24px\">\n",
              "    <g>\n",
              "        <path d=\"M19 3H5c-1.1 0-2 .9-2 2v14c0 1.1.9 2 2 2h14c1.1 0 2-.9 2-2V5c0-1.1-.9-2-2-2zM9 17H7v-7h2v7zm4 0h-2V7h2v10zm4 0h-2v-4h2v4z\"/>\n",
              "    </g>\n",
              "</svg>\n",
              "      </button>\n",
              "\n",
              "<style>\n",
              "  .colab-df-quickchart {\n",
              "      --bg-color: #E8F0FE;\n",
              "      --fill-color: #1967D2;\n",
              "      --hover-bg-color: #E2EBFA;\n",
              "      --hover-fill-color: #174EA6;\n",
              "      --disabled-fill-color: #AAA;\n",
              "      --disabled-bg-color: #DDD;\n",
              "  }\n",
              "\n",
              "  [theme=dark] .colab-df-quickchart {\n",
              "      --bg-color: #3B4455;\n",
              "      --fill-color: #D2E3FC;\n",
              "      --hover-bg-color: #434B5C;\n",
              "      --hover-fill-color: #FFFFFF;\n",
              "      --disabled-bg-color: #3B4455;\n",
              "      --disabled-fill-color: #666;\n",
              "  }\n",
              "\n",
              "  .colab-df-quickchart {\n",
              "    background-color: var(--bg-color);\n",
              "    border: none;\n",
              "    border-radius: 50%;\n",
              "    cursor: pointer;\n",
              "    display: none;\n",
              "    fill: var(--fill-color);\n",
              "    height: 32px;\n",
              "    padding: 0;\n",
              "    width: 32px;\n",
              "  }\n",
              "\n",
              "  .colab-df-quickchart:hover {\n",
              "    background-color: var(--hover-bg-color);\n",
              "    box-shadow: 0 1px 2px rgba(60, 64, 67, 0.3), 0 1px 3px 1px rgba(60, 64, 67, 0.15);\n",
              "    fill: var(--button-hover-fill-color);\n",
              "  }\n",
              "\n",
              "  .colab-df-quickchart-complete:disabled,\n",
              "  .colab-df-quickchart-complete:disabled:hover {\n",
              "    background-color: var(--disabled-bg-color);\n",
              "    fill: var(--disabled-fill-color);\n",
              "    box-shadow: none;\n",
              "  }\n",
              "\n",
              "  .colab-df-spinner {\n",
              "    border: 2px solid var(--fill-color);\n",
              "    border-color: transparent;\n",
              "    border-bottom-color: var(--fill-color);\n",
              "    animation:\n",
              "      spin 1s steps(1) infinite;\n",
              "  }\n",
              "\n",
              "  @keyframes spin {\n",
              "    0% {\n",
              "      border-color: transparent;\n",
              "      border-bottom-color: var(--fill-color);\n",
              "      border-left-color: var(--fill-color);\n",
              "    }\n",
              "    20% {\n",
              "      border-color: transparent;\n",
              "      border-left-color: var(--fill-color);\n",
              "      border-top-color: var(--fill-color);\n",
              "    }\n",
              "    30% {\n",
              "      border-color: transparent;\n",
              "      border-left-color: var(--fill-color);\n",
              "      border-top-color: var(--fill-color);\n",
              "      border-right-color: var(--fill-color);\n",
              "    }\n",
              "    40% {\n",
              "      border-color: transparent;\n",
              "      border-right-color: var(--fill-color);\n",
              "      border-top-color: var(--fill-color);\n",
              "    }\n",
              "    60% {\n",
              "      border-color: transparent;\n",
              "      border-right-color: var(--fill-color);\n",
              "    }\n",
              "    80% {\n",
              "      border-color: transparent;\n",
              "      border-right-color: var(--fill-color);\n",
              "      border-bottom-color: var(--fill-color);\n",
              "    }\n",
              "    90% {\n",
              "      border-color: transparent;\n",
              "      border-bottom-color: var(--fill-color);\n",
              "    }\n",
              "  }\n",
              "</style>\n",
              "\n",
              "      <script>\n",
              "        async function quickchart(key) {\n",
              "          const quickchartButtonEl =\n",
              "            document.querySelector('#' + key + ' button');\n",
              "          quickchartButtonEl.disabled = true;  // To prevent multiple clicks.\n",
              "          quickchartButtonEl.classList.add('colab-df-spinner');\n",
              "          try {\n",
              "            const charts = await google.colab.kernel.invokeFunction(\n",
              "                'suggestCharts', [key], {});\n",
              "          } catch (error) {\n",
              "            console.error('Error during call to suggestCharts:', error);\n",
              "          }\n",
              "          quickchartButtonEl.classList.remove('colab-df-spinner');\n",
              "          quickchartButtonEl.classList.add('colab-df-quickchart-complete');\n",
              "        }\n",
              "        (() => {\n",
              "          let quickchartButtonEl =\n",
              "            document.querySelector('#df-63d829d9-d1fa-4f3b-bb66-f4c0739a87cc button');\n",
              "          quickchartButtonEl.style.display =\n",
              "            google.colab.kernel.accessAllowed ? 'block' : 'none';\n",
              "        })();\n",
              "      </script>\n",
              "    </div>\n",
              "\n",
              "    </div>\n",
              "  </div>\n"
            ],
            "application/vnd.google.colaboratory.intrinsic+json": {
              "type": "dataframe",
              "variable_name": "unemployment_series_filter_df",
              "repr_error": "0"
            }
          },
          "metadata": {},
          "execution_count": 19
        }
      ]
    },
    {
      "cell_type": "code",
      "source": [
        "unemployment_df=pd.DataFrame()\n",
        "for _, row in unemployment_series_filter_df.iterrows():\n",
        "  serie_id, state = row['serie_id'], row['State']\n",
        "  cur_time_serie_df = get_time_series(serie_id, fred_api_key)\n",
        "  cur_time_serie_df['State']=state\n",
        "  unemployment_df=pd.concat([unemployment_df, cur_time_serie_df])\n",
        "  # print(unemployment_df.shape)\n",
        "  time.sleep(0.5)"
      ],
      "metadata": {
        "id": "xBdL5MRNVPoQ"
      },
      "execution_count": 20,
      "outputs": []
    },
    {
      "cell_type": "code",
      "source": [
        "state_codes = unemployment_df.State.astype('category')\n",
        "codes = state_codes.cat.codes\n",
        "fig, ax = plt.subplots()\n",
        "scatter = ax.scatter(unemployment_df.index, unemployment_df.Value, c=codes, cmap='tab20')\n",
        "\n",
        "handles, _ = scatter.legend_elements()\n",
        "legend_labels = state_codes.cat.categories\n",
        "ax.legend(handles, legend_labels, title=\"State\", loc='center left',bbox_to_anchor=(1, 0.5) )\n",
        "plt.show()"
      ],
      "metadata": {
        "colab": {
          "base_uri": "https://localhost:8080/",
          "height": 430
        },
        "id": "BAPlgwTnWB5G",
        "outputId": "3848ffeb-d176-4469-b20a-cebbcb29ac45"
      },
      "execution_count": 27,
      "outputs": [
        {
          "output_type": "display_data",
          "data": {
            "text/plain": [
              "<Figure size 640x480 with 1 Axes>"
            ],
            "image/png": "[encoded data removed]"
          },
          "metadata": {}
        }
      ]
    },
    {
      "cell_type": "markdown",
      "source": [
        "### Animation showing unemployement rate by state over time (SKIP FOR NOW)"
      ],
      "metadata": {
        "id": "OZuT05ioavUB"
      }
    },
    {
      "cell_type": "code",
      "source": [
        "from matplotlib.animation import FuncAnimation"
      ],
      "metadata": {
        "id": "WXSghGmFZ0Y6"
      },
      "execution_count": 98,
      "outputs": []
    },
    {
      "cell_type": "code",
      "source": [
        "unemployment_df = unemployment_df.sort_index()\n",
        "time_intervals =unemployment_df.index\n",
        "fig, ax = plt.subplots()\n",
        "\n",
        "def animate(time_index):\n",
        "  ax.clear()\n",
        "  cur_df = unemployment_df.loc[time_index]\n",
        "  ax.barh(cur_df['State'], cur_df['Value'], color='skyblue')\n",
        "\n",
        "# Create animation\n",
        "anim = FuncAnimation(\n",
        "    fig,\n",
        "    animate,\n",
        "    frames=time_intervals,\n",
        "     interval=50, repeat=False\n",
        ")\n",
        "anim.save('animation.mp4', writer='ffmpeg')\n",
        "plt.tight_layout()\n",
        "plt.show()"
      ],
      "metadata": {
        "id": "uPZAkVCcbmce"
      },
      "execution_count": null,
      "outputs": []
    }
  ]
}